{
  "nbformat": 4,
  "nbformat_minor": 0,
  "metadata": {
    "colab": {
      "provenance": [],
      "authorship_tag": "ABX9TyO/mUNdnlSyHqYCjbyZeTE+",
      "include_colab_link": true
    },
    "kernelspec": {
      "name": "python3",
      "display_name": "Python 3"
    },
    "language_info": {
      "name": "python"
    }
  },
  "cells": [
    {
      "cell_type": "markdown",
      "metadata": {
        "id": "view-in-github",
        "colab_type": "text"
      },
      "source": [
        "<a href=\"https://colab.research.google.com/github/eghrthrjdtsed/-------------------------/blob/master/Home_work_3.ipynb\" target=\"_parent\"><img src=\"https://colab.research.google.com/assets/colab-badge.svg\" alt=\"Open In Colab\"/></a>"
      ]
    },
    {
      "cell_type": "code",
      "execution_count": null,
      "metadata": {
        "id": "fAARlmD9_FZ9"
      },
      "outputs": [],
      "source": []
    },
    {
      "cell_type": "markdown",
      "source": [
        "1. Попробуйте улучшить работу нейронной сети (разобранную на уроке), обучавшейся на датасет Fashion-MNIST. Напишите в комментариях к уроку, какого результата вы добились от нейросети и что помогло улучшить её точность.\n",
        "2. Попробуйте найти полезные команды TensorFlow, неразобранные на уроке"
      ],
      "metadata": {
        "id": "lEqoFtjkDiyu"
      }
    },
    {
      "cell_type": "code",
      "source": [
        "!pip install -q -U keras-tuner"
      ],
      "metadata": {
        "colab": {
          "base_uri": "https://localhost:8080/"
        },
        "id": "1GvsEQ_eEk0S",
        "outputId": "7cdd9ddb-93ac-4a88-f581-8b064ef51588"
      },
      "execution_count": 1,
      "outputs": [
        {
          "output_type": "stream",
          "name": "stdout",
          "text": [
            "\u001b[?25l     \u001b[90m━━━━━━━━━━━━━━━━━━━━━━━━━━━━━━━━━━━━━━━━\u001b[0m \u001b[32m0.0/128.9 kB\u001b[0m \u001b[31m?\u001b[0m eta \u001b[36m-:--:--\u001b[0m\r\u001b[2K     \u001b[90m━━━━━━━━━━━━━━━━━━━━━━━━━━━━━━━━━━━━━━━━\u001b[0m \u001b[32m128.9/128.9 kB\u001b[0m \u001b[31m3.7 MB/s\u001b[0m eta \u001b[36m0:00:00\u001b[0m\n",
            "\u001b[?25h"
          ]
        }
      ]
    },
    {
      "cell_type": "markdown",
      "source": [
        "План по улучшению:\n",
        " - Составить несколько моделей с разными параметрами;\n",
        " - Поискать оптимальные варианты;\n",
        " - Применить несколько разных оптимайзеров;\n",
        " - Применить callback;\n",
        " - Сделать сборку предсказаний из нескольких моделей (Идея обучить одну из моделей на обратном векторе);"
      ],
      "metadata": {
        "id": "9Csocstn8NN6"
      }
    },
    {
      "cell_type": "code",
      "source": [
        "# from __future__ import absolute_import,division, print_function, unicode_literals\n",
        "\n",
        "#TensorFlow and tf.keras\n",
        "import tensorflow as tf\n",
        "tf.random.set_seed(5)\n",
        "from tensorflow import keras\n",
        "from tensorflow.keras import callbacks\n",
        "from tensorflow.keras.utils import to_categorical, to_ordinal\n",
        "from tensorflow.keras.models import load_model\n",
        "#Helper libraries\n",
        "import numpy as np\n",
        "import matplotlib.pyplot as plt\n",
        "%matplotlib inline\n",
        "import keras_tuner as kt\n",
        "from sklearn.metrics import confusion_matrix, precision_score, recall_score, ConfusionMatrixDisplay, accuracy_score\n",
        "\n",
        "print(tf.__version__)"
      ],
      "metadata": {
        "id": "7Kbg0P0Q_qbY",
        "colab": {
          "base_uri": "https://localhost:8080/"
        },
        "outputId": "7a08b4f2-7b8e-4b39-df8d-c5caf988167b"
      },
      "execution_count": 12,
      "outputs": [
        {
          "output_type": "stream",
          "name": "stdout",
          "text": [
            "2.15.0\n"
          ]
        }
      ]
    },
    {
      "cell_type": "markdown",
      "metadata": {
        "id": "yR0EdgrLCaWR"
      },
      "source": [
        "## Импортируем Fashion MNIST датасет"
      ]
    },
    {
      "cell_type": "code",
      "metadata": {
        "id": "7MqDQO0KCaWS",
        "colab": {
          "base_uri": "https://localhost:8080/"
        },
        "outputId": "41351b0d-0b43-44db-bfe1-0069a1c3d0d0"
      },
      "source": [
        "from keras.datasets import fashion_mnist\n",
        "\n",
        "(train_images, train_labels), (test_images, test_labels) = fashion_mnist.load_data()\n",
        "\n",
        "# Normalize.\n",
        "train_images = (train_images / 255)\n",
        "test_images = (test_images / 255)\n",
        "\n",
        "# Flatten.\n",
        "# train_images = train_images.reshape((-1, 784)) # можно использовать np.ravel()\n",
        "# test_images = test_images.reshape((-1, 784))"
      ],
      "execution_count": 3,
      "outputs": [
        {
          "output_type": "stream",
          "name": "stdout",
          "text": [
            "Downloading data from https://storage.googleapis.com/tensorflow/tf-keras-datasets/train-labels-idx1-ubyte.gz\n",
            "29515/29515 [==============================] - 0s 0us/step\n",
            "Downloading data from https://storage.googleapis.com/tensorflow/tf-keras-datasets/train-images-idx3-ubyte.gz\n",
            "26421880/26421880 [==============================] - 0s 0us/step\n",
            "Downloading data from https://storage.googleapis.com/tensorflow/tf-keras-datasets/t10k-labels-idx1-ubyte.gz\n",
            "5148/5148 [==============================] - 0s 0us/step\n",
            "Downloading data from https://storage.googleapis.com/tensorflow/tf-keras-datasets/t10k-images-idx3-ubyte.gz\n",
            "4422102/4422102 [==============================] - 0s 0us/step\n"
          ]
        }
      ]
    },
    {
      "cell_type": "code",
      "source": [
        "plt.figure(figsize=(6,3))\n",
        "plt.subplot(1,2,1)\n",
        "plt.imshow(train_images[0], cmap='gray')\n",
        "plt.subplot(1,2,2)\n",
        "plt.imshow(train_images[1], cmap='gray')"
      ],
      "metadata": {
        "colab": {
          "base_uri": "https://localhost:8080/",
          "height": 290
        },
        "id": "Ov0xQn3iCSZm",
        "outputId": "d3413979-4005-442e-90a8-d8be1a4a49c2"
      },
      "execution_count": 4,
      "outputs": [
        {
          "output_type": "execute_result",
          "data": {
            "text/plain": [
              "<matplotlib.image.AxesImage at 0x78b56b2bfaf0>"
            ]
          },
          "metadata": {},
          "execution_count": 4
        },
        {
          "output_type": "display_data",
          "data": {
            "text/plain": [
              "<Figure size 600x300 with 2 Axes>"
            ],
            "image/png": "[encoded data removed]"
          },
          "metadata": {}
        }
      ]
    },
    {
      "cell_type": "markdown",
      "metadata": {
        "id": "t9FDsUlxCaWW"
      },
      "source": [
        "Датасет содержит следующие классы:\n",
        "\n",
        "<table>\n",
        "  <tr>\n",
        "    <th>Label</th>\n",
        "    <th>Class</th>\n",
        "  </tr>\n",
        "  <tr>\n",
        "    <td>0</td>\n",
        "    <td>T-shirt/top</td>\n",
        "  </tr>\n",
        "  <tr>\n",
        "    <td>1</td>\n",
        "    <td>Trouser</td>\n",
        "  </tr>\n",
        "    <tr>\n",
        "    <td>2</td>\n",
        "    <td>Pullover</td>\n",
        "  </tr>\n",
        "    <tr>\n",
        "    <td>3</td>\n",
        "    <td>Dress</td>\n",
        "  </tr>\n",
        "    <tr>\n",
        "    <td>4</td>\n",
        "    <td>Coat</td>\n",
        "  </tr>\n",
        "    <tr>\n",
        "    <td>5</td>\n",
        "    <td>Sandal</td>\n",
        "  </tr>\n",
        "    <tr>\n",
        "    <td>6</td>\n",
        "    <td>Shirt</td>\n",
        "  </tr>\n",
        "    <tr>\n",
        "    <td>7</td>\n",
        "    <td>Sneaker</td>\n",
        "  </tr>\n",
        "    <tr>\n",
        "    <td>8</td>\n",
        "    <td>Bag</td>\n",
        "  </tr>\n",
        "    <tr>\n",
        "    <td>9</td>\n",
        "    <td>Ankle boot</td>\n",
        "  </tr>\n",
        "</table>\n",
        "\n",
        "Каждому классу обозначенному цифрой мы можем присвоить текстовое значение -"
      ]
    },
    {
      "cell_type": "code",
      "metadata": {
        "id": "IjnLH5S2CaWx"
      },
      "source": [
        "class_names = ['T-shirt/top', 'Trouser', 'Pullover', 'Dress', 'Coat',\n",
        "               'Sandal', 'Shirt', 'Sneaker', 'Bag', 'Ankle boot']"
      ],
      "execution_count": 5,
      "outputs": []
    },
    {
      "cell_type": "markdown",
      "metadata": {
        "id": "Wz7l27Lz9S1P"
      },
      "source": [
        "Для процесса обучения нейронной сети нам важно перевести данные из диапазона от 0 до 255 в диапазон от 0 до 1:"
      ]
    },
    {
      "cell_type": "markdown",
      "metadata": {
        "id": "Gxg1XGm0eOBy"
      },
      "source": [
        "### Определение слоев\n",
        "\n",
        "Давайте создадим 3 слоя нейронной сети с помощью функционала Keras.layers"
      ]
    },
    {
      "cell_type": "code",
      "source": [
        "model = keras.Sequential([\n",
        "    keras.layers.Flatten(input_shape=(28, 28), name='input'),\n",
        "    keras.layers.Dense(256, activation='relu', name='hiden_one'),\n",
        "    keras.layers.Dense(128, activation='relu', name='hiden_two'),\n",
        "    keras.layers.Dense(64, activation='tanh', name='hiden_three'),\n",
        "    keras.layers.Dense(64, activation='relu', name='hiden_four'),\n",
        "    keras.layers.Dense(10, name='output')\n",
        "])\n",
        "config = model.get_config()\n",
        "model.save_weights('fashion_weights.h5')"
      ],
      "metadata": {
        "id": "ckcddyf_ARaB"
      },
      "execution_count": 6,
      "outputs": []
    },
    {
      "cell_type": "code",
      "metadata": {
        "id": "Lhan11blCaW7",
        "colab": {
          "base_uri": "https://localhost:8080/",
          "height": 536
        },
        "outputId": "c6bd8ece-d209-4fb5-e271-e076a8099371"
      },
      "source": [
        "model = model.from_config(config)\n",
        "model.load_weights('fashion_weights.h5')\n",
        "\n",
        "\n",
        "model.compile(optimizer=tf.keras.optimizers.Adam(learning_rate=0.001), loss=tf.keras.losses.SparseCategoricalCrossentropy(from_logits=True), metrics=['accuracy'])\n",
        "model.fit(train_images, train_labels, batch_size = 250, epochs=25, verbose=0)\n",
        "  # model.fit(train_images, train_labels, batch_size = 250, epochs=el, verbose=0, validation_data=(test_images, test_labels))\n",
        "  # model.fit(train_images, train_labels, batch_size = 10, epochs=10, verbose=0, validation_data=(test_images, test_labels), callbacks=[reduce_lr])\n",
        "test_loss, test_acc = model.evaluate(test_images,  test_labels, verbose=2)\n",
        "\n",
        "print('\\nTest accuracy:', test_acc)\n",
        "  # Получим предсказания\n",
        "probability_model = tf.keras.Sequential([model,\n",
        "                                         tf.keras.layers.Softmax()])\n",
        "predictions = probability_model.predict(test_images)\n",
        "y_pred = np.argmax(predictions, axis=1)\n",
        "# Посмотрим на результаты\n",
        "ConfusionMatrixDisplay.from_predictions(test_labels, y_pred)"
      ],
      "execution_count": 7,
      "outputs": [
        {
          "output_type": "stream",
          "name": "stdout",
          "text": [
            "313/313 - 1s - loss: 0.3608 - accuracy: 0.8923 - 750ms/epoch - 2ms/step\n",
            "\n",
            "Test accuracy: 0.892300009727478\n",
            "313/313 [==============================] - 1s 2ms/step\n"
          ]
        },
        {
          "output_type": "execute_result",
          "data": {
            "text/plain": [
              "<sklearn.metrics._plot.confusion_matrix.ConfusionMatrixDisplay at 0x78b546e09270>"
            ]
          },
          "metadata": {},
          "execution_count": 7
        },
        {
          "output_type": "display_data",
          "data": {
            "text/plain": [
              "<Figure size 640x480 with 2 Axes>"
            ],
            "image/png": "[encoded data removed]"
          },
          "metadata": {}
        }
      ]
    },
    {
      "cell_type": "code",
      "source": [
        "def recall_precision(y_true, y_pred, labels=[0, 1, 2, 3, 4, 5, 6, 7, 8, 9]):\n",
        "  precision = precision_score(y_true, y_pred, labels=labels, average=None)\n",
        "  recall = recall_score(y_true, y_pred, labels=labels, average=None)\n",
        "  for i, el in enumerate(zip(precision, recall)):\n",
        "    print(f'Класс - {i}, точность - {el[0]:.3f}, полнота - {el[1]:.3f}')"
      ],
      "metadata": {
        "id": "XtlOdBOW-2IH"
      },
      "execution_count": 8,
      "outputs": []
    },
    {
      "cell_type": "code",
      "source": [
        "recall_precision(test_labels, y_pred)"
      ],
      "metadata": {
        "colab": {
          "base_uri": "https://localhost:8080/"
        },
        "id": "wAUIx35VDK0y",
        "outputId": "0abffb64-b277-4a61-8d0e-30734f500d3e"
      },
      "execution_count": 9,
      "outputs": [
        {
          "output_type": "stream",
          "name": "stdout",
          "text": [
            "Класс - 0, точность - 0.848, полнота - 0.836\n",
            "Класс - 1, точность - 0.993, полнота - 0.974\n",
            "Класс - 2, точность - 0.841, полнота - 0.761\n",
            "Класс - 3, точность - 0.935, полнота - 0.867\n",
            "Класс - 4, точность - 0.796, полнота - 0.852\n",
            "Класс - 5, точность - 0.963, полнота - 0.974\n",
            "Класс - 6, точность - 0.686, полнота - 0.770\n",
            "Класс - 7, точность - 0.967, полнота - 0.943\n",
            "Класс - 8, точность - 0.972, полнота - 0.976\n",
            "Класс - 9, точность - 0.953, полнота - 0.970\n"
          ]
        }
      ]
    },
    {
      "cell_type": "markdown",
      "source": [
        "После перебора всех параметров нейросети, созданной на уроке можно уверенно заключить:\n",
        "- Улучшить ее работу только изменяя параметры невозможно.\n",
        "\n",
        "- Не улучшает ситуацию последовательное обучение с использованием различных входных пакетов.\n",
        "\n",
        "- Не удалось также создать сеть с другим количеством слоёв существенно превосходящую образец.\n",
        "\n",
        "- Не оправдала себя идея использовать для обучения зеркально (горизонтально или вертикально) отраженные изображения.\n",
        "\n",
        "**-Единственный вариант давший небольшие улучшения это использование комбинации 2х сетей, сети образца и сети с параметрами, которая \"заточена\" максимально хорошо предсказывать самый плохо определяемый класс.**"
      ],
      "metadata": {
        "id": "2ApaTraTD5Fr"
      }
    },
    {
      "cell_type": "code",
      "source": [
        "# Создаем словарь который будет содержать модель сети и параметры для обучения\n",
        "models = dict()\n",
        "models[0] = [keras.Sequential([\n",
        "    keras.layers.Flatten(input_shape=(28, 28), name='input'),\n",
        "    keras.layers.Dense(256, activation='relu', name='hiden_one'),\n",
        "    keras.layers.Dense(128, activation='relu', name='hiden_two'),\n",
        "    keras.layers.Dense(64, activation='tanh', name='hiden_three'),\n",
        "    keras.layers.Dense(64, activation='relu', name='hiden_four'),\n",
        "    keras.layers.Dense(10, name='output')\n",
        "]), tf.keras.optimizers.Adam(learning_rate=0.001), 250]\n",
        "models[1] = [keras.Sequential([\n",
        "    keras.layers.Flatten(input_shape=(28, 28), name='input'),\n",
        "    keras.layers.Dense(256, activation='relu', name='hiden_one'),\n",
        "    keras.layers.Dense(128, activation='gelu', name='hiden_two'),\n",
        "    keras.layers.Dense(64, activation='sigmoid', name='hiden_three'),\n",
        "    keras.layers.Dense(64, activation='selu', name='hiden_four'),\n",
        "    keras.layers.Dense(10, name='output')]), tf.keras.optimizers.AdamW(learning_rate=0.001), 450]\n",
        "# Список для сохранения результатов\n",
        "result = list()\n",
        "# Формируем сеть.\n",
        "for key, param in models.items():\n",
        "  # Загружаем параметры\n",
        "  model, opt, batch = param[0], param[1], param[2]\n",
        "  # Загружаем входные веса, чтобы хоть как-то \"уравнять\" результаты работы\n",
        "  model.load_weights('fashion_weights.h5')\n",
        "  model.compile(optimizer=opt, loss=tf.keras.losses.SparseCategoricalCrossentropy(from_logits=True), metrics=['accuracy'])\n",
        "  model.fit(train_images, train_labels, batch_size=batch, epochs=25, verbose=0)\n",
        "  # Получаем предварительную метрику\n",
        "  test_loss, test_acc = model.evaluate(test_images,  test_labels, verbose=2)\n",
        "  print('\\nTest accuracy:', test_acc)\n",
        "  probability_model = tf.keras.Sequential([model,\n",
        "                                         tf.keras.layers.Softmax()])\n",
        "  # Сохраняем массив с вероятностями\n",
        "  result.append(probability_model.predict(test_images))\n",
        "# Получаем финишное предсказание суммируя два массива с вероятностями\n",
        "y_pred = np.argmax(sum(result), axis=1)\n",
        "# Окончательная метрика качества\n",
        "print(accuracy_score(test_labels, y_pred))\n",
        "# Распределение предсказаний по классам\n",
        "print(recall_precision(test_labels, y_pred))\n",
        "ConfusionMatrixDisplay.from_predictions(test_labels, y_pred)\n"
      ],
      "metadata": {
        "colab": {
          "base_uri": "https://localhost:8080/",
          "height": 814
        },
        "id": "ijGscA5l2qhd",
        "outputId": "c194e52f-acf4-44ed-f7fc-d9ad251ca79b"
      },
      "execution_count": 10,
      "outputs": [
        {
          "output_type": "stream",
          "name": "stdout",
          "text": [
            "313/313 - 1s - loss: 0.3608 - accuracy: 0.8923 - 711ms/epoch - 2ms/step\n",
            "\n",
            "Test accuracy: 0.892300009727478\n",
            "313/313 [==============================] - 1s 2ms/step\n",
            "313/313 - 1s - loss: 0.3482 - accuracy: 0.8882 - 723ms/epoch - 2ms/step\n",
            "\n",
            "Test accuracy: 0.8881999850273132\n",
            "313/313 [==============================] - 1s 2ms/step\n",
            "0.8961\n",
            "Класс - 0, точность - 0.865, полнота - 0.839\n",
            "Класс - 1, точность - 0.991, полнота - 0.976\n",
            "Класс - 2, точность - 0.834, полнота - 0.784\n",
            "Класс - 3, точность - 0.915, полнота - 0.900\n",
            "Класс - 4, точность - 0.823, полнота - 0.815\n",
            "Класс - 5, точность - 0.979, полнота - 0.970\n",
            "Класс - 6, точность - 0.692, полнота - 0.771\n",
            "Класс - 7, точность - 0.956, полнота - 0.955\n",
            "Класс - 8, точность - 0.969, полнота - 0.981\n",
            "Класс - 9, точность - 0.956, полнота - 0.970\n",
            "None\n"
          ]
        },
        {
          "output_type": "execute_result",
          "data": {
            "text/plain": [
              "<sklearn.metrics._plot.confusion_matrix.ConfusionMatrixDisplay at 0x78b5474aedd0>"
            ]
          },
          "metadata": {},
          "execution_count": 10
        },
        {
          "output_type": "display_data",
          "data": {
            "text/plain": [
              "<Figure size 640x480 with 2 Axes>"
            ],
            "image/png": "[encoded data removed]"
          },
          "metadata": {}
        }
      ]
    },
    {
      "cell_type": "markdown",
      "source": [
        "Интересным показался модуль Keras-tuner, для подбора оптимальных параметорв сети. Правда я не разобрался как можно с его помощью искать оптимальное число слоёв сети."
      ],
      "metadata": {
        "id": "7iIdVVXIJQcR"
      }
    },
    {
      "cell_type": "code",
      "source": [
        "def model_builder(hp):\n",
        "  model = keras.Sequential()\n",
        "  model.add(keras.layers.Flatten(input_shape=(28, 28)))\n",
        "\n",
        "  # Tune the number of units in the first Dense layer\n",
        "  # Choose an optimal value between 32-512\n",
        "  hp_units = hp.Int('units', min_value=10, max_value=256, step=25)\n",
        "  model.add(keras.layers.Dense(units=hp_units, activation='relu'))\n",
        "  model.add(keras.layers.Dense(10))\n",
        "\n",
        "  # Tune the learning rate for the optimizer\n",
        "  # Choose an optimal value from 0.01, 0.001, or 0.0001\n",
        "  model.compile(optimizer=keras.optimizers.Adam(learning_rate=0.001),\n",
        "                loss=keras.losses.SparseCategoricalCrossentropy(from_logits=True),\n",
        "                metrics=['accuracy'])\n",
        "\n",
        "  return model\n",
        "\n",
        "tuner = kt.Hyperband(model_builder,\n",
        "                     objective='val_accuracy',\n",
        "                     max_epochs=10,\n",
        "                     factor=3)\n",
        "\n",
        "stop_early = tf.keras.callbacks.EarlyStopping(monitor='val_loss', patience=2)\n"
      ],
      "metadata": {
        "id": "n3VHWw5hFJv4"
      },
      "execution_count": 13,
      "outputs": []
    },
    {
      "cell_type": "code",
      "source": [
        "tuner.search(train_images, train_labels, epochs=25, validation_split=0.2, callbacks=[stop_early])\n",
        "best_hps=tuner.get_best_hyperparameters(num_trials=1)[0]\n",
        "print(f' layer is {best_hps.get(\"units\")}')\n",
        "\n",
        "\n"
      ],
      "metadata": {
        "id": "lEFflzBXFuik",
        "colab": {
          "base_uri": "https://localhost:8080/"
        },
        "outputId": "e2452841-add4-4703-ba6c-c6201fc37916"
      },
      "execution_count": 14,
      "outputs": [
        {
          "output_type": "stream",
          "name": "stdout",
          "text": [
            "Trial 10 Complete [00h 00m 23s]\n",
            "val_accuracy: 0.8676666617393494\n",
            "\n",
            "Best val_accuracy So Far: 0.871999979019165\n",
            "Total elapsed time: 00h 02m 38s\n",
            " layer is 210\n"
          ]
        }
      ]
    },
    {
      "cell_type": "markdown",
      "source": [
        "Попробуем добавить некоторые улучшения"
      ],
      "metadata": {
        "id": "7zTg8iWzBgOf"
      }
    },
    {
      "cell_type": "code",
      "source": [
        "# Создаем архитектуру модели с улучшениями\n",
        "model = keras.Sequential([\n",
        "    keras.layers.Flatten(input_shape=(28, 28)),\n",
        "    keras.layers.Dense(256, activation='relu'),\n",
        "    keras.layers.Dropout(0.2),  # Добавляем слой Dropout для уменьшения переобучения\n",
        "    keras.layers.Dense(128, activation='relu'),\n",
        "    keras.layers.Dropout(0.2),\n",
        "    keras.layers.Dense(64, activation='tanh'),\n",
        "    keras.layers.Dropout(0.2),\n",
        "    keras.layers.Dense(64, activation='relu'),\n",
        "    keras.layers.Dropout(0.2),\n",
        "    keras.layers.Dense(10)\n",
        "])"
      ],
      "metadata": {
        "id": "EB6vx8boBhxi"
      },
      "execution_count": 15,
      "outputs": []
    },
    {
      "cell_type": "code",
      "source": [
        "# Компилируем модель с использованием оптимизатора Adam\n",
        "model.compile(optimizer='adam',\n",
        "              loss=tf.keras.losses.SparseCategoricalCrossentropy(from_logits=True),\n",
        "              metrics=['accuracy'])"
      ],
      "metadata": {
        "id": "tflg5fTpBpsC"
      },
      "execution_count": 16,
      "outputs": []
    },
    {
      "cell_type": "code",
      "source": [
        "# Определяем callback для ранней остановки обучения\n",
        "early_stopping = callbacks.EarlyStopping(\n",
        "    min_delta=0.001,\n",
        "    patience=3,\n",
        "    restore_best_weights=True,\n",
        "    verbose=1\n",
        ")"
      ],
      "metadata": {
        "id": "WChzni_zBs4i"
      },
      "execution_count": 17,
      "outputs": []
    },
    {
      "cell_type": "code",
      "source": [
        "# Обучаем модель с использованием callback\n",
        "history = model.fit(train_images, train_labels,\n",
        "                    epochs=25,\n",
        "                    batch_size=250,\n",
        "                    validation_data=(test_images, test_labels),\n",
        "                    callbacks=[early_stopping],\n",
        "                    verbose=1)"
      ],
      "metadata": {
        "colab": {
          "base_uri": "https://localhost:8080/"
        },
        "id": "zcDvWnydBwL8",
        "outputId": "f51c7539-4fe6-42e9-d5d1-5d4ea14a870b"
      },
      "execution_count": 18,
      "outputs": [
        {
          "output_type": "stream",
          "name": "stdout",
          "text": [
            "Epoch 1/25\n",
            "240/240 [==============================] - 5s 15ms/step - loss: 0.7478 - accuracy: 0.7360 - val_loss: 0.4582 - val_accuracy: 0.8336\n",
            "Epoch 2/25\n",
            "240/240 [==============================] - 4s 15ms/step - loss: 0.4607 - accuracy: 0.8364 - val_loss: 0.4063 - val_accuracy: 0.8555\n",
            "Epoch 3/25\n",
            "240/240 [==============================] - 3s 14ms/step - loss: 0.4040 - accuracy: 0.8566 - val_loss: 0.3959 - val_accuracy: 0.8625\n",
            "Epoch 4/25\n",
            "240/240 [==============================] - 3s 12ms/step - loss: 0.3825 - accuracy: 0.8640 - val_loss: 0.3659 - val_accuracy: 0.8674\n",
            "Epoch 5/25\n",
            "240/240 [==============================] - 3s 13ms/step - loss: 0.3610 - accuracy: 0.8713 - val_loss: 0.3710 - val_accuracy: 0.8675\n",
            "Epoch 6/25\n",
            "240/240 [==============================] - 4s 15ms/step - loss: 0.3473 - accuracy: 0.8763 - val_loss: 0.3491 - val_accuracy: 0.8750\n",
            "Epoch 7/25\n",
            "240/240 [==============================] - 3s 13ms/step - loss: 0.3341 - accuracy: 0.8792 - val_loss: 0.3446 - val_accuracy: 0.8740\n",
            "Epoch 8/25\n",
            "240/240 [==============================] - 3s 12ms/step - loss: 0.3246 - accuracy: 0.8823 - val_loss: 0.3374 - val_accuracy: 0.8771\n",
            "Epoch 9/25\n",
            "240/240 [==============================] - 3s 12ms/step - loss: 0.3147 - accuracy: 0.8863 - val_loss: 0.3454 - val_accuracy: 0.8784\n",
            "Epoch 10/25\n",
            "240/240 [==============================] - 4s 15ms/step - loss: 0.3069 - accuracy: 0.8900 - val_loss: 0.3367 - val_accuracy: 0.8814\n",
            "Epoch 11/25\n",
            "240/240 [==============================] - 3s 13ms/step - loss: 0.2976 - accuracy: 0.8927 - val_loss: 0.3317 - val_accuracy: 0.8827\n",
            "Epoch 12/25\n",
            "240/240 [==============================] - 3s 12ms/step - loss: 0.2911 - accuracy: 0.8944 - val_loss: 0.3325 - val_accuracy: 0.8801\n",
            "Epoch 13/25\n",
            "240/240 [==============================] - 3s 13ms/step - loss: 0.2866 - accuracy: 0.8955 - val_loss: 0.3318 - val_accuracy: 0.8803\n",
            "Epoch 14/25\n",
            "240/240 [==============================] - 4s 15ms/step - loss: 0.2814 - accuracy: 0.8971 - val_loss: 0.3278 - val_accuracy: 0.8839\n",
            "Epoch 15/25\n",
            "240/240 [==============================] - 4s 15ms/step - loss: 0.2719 - accuracy: 0.9003 - val_loss: 0.3257 - val_accuracy: 0.8826\n",
            "Epoch 16/25\n",
            "240/240 [==============================] - 3s 12ms/step - loss: 0.2707 - accuracy: 0.9007 - val_loss: 0.3168 - val_accuracy: 0.8883\n",
            "Epoch 17/25\n",
            "240/240 [==============================] - 3s 14ms/step - loss: 0.2692 - accuracy: 0.9008 - val_loss: 0.3236 - val_accuracy: 0.8858\n",
            "Epoch 18/25\n",
            "240/240 [==============================] - 4s 17ms/step - loss: 0.2651 - accuracy: 0.9024 - val_loss: 0.3166 - val_accuracy: 0.8881\n",
            "Epoch 19/25\n",
            "240/240 [==============================] - 3s 13ms/step - loss: 0.2594 - accuracy: 0.9050 - val_loss: 0.3135 - val_accuracy: 0.8895\n",
            "Epoch 20/25\n",
            "240/240 [==============================] - 3s 13ms/step - loss: 0.2551 - accuracy: 0.9065 - val_loss: 0.3204 - val_accuracy: 0.8866\n",
            "Epoch 21/25\n",
            "240/240 [==============================] - 3s 14ms/step - loss: 0.2535 - accuracy: 0.9086 - val_loss: 0.3161 - val_accuracy: 0.8866\n",
            "Epoch 22/25\n",
            "239/240 [============================>.] - ETA: 0s - loss: 0.2482 - accuracy: 0.9095Restoring model weights from the end of the best epoch: 19.\n",
            "240/240 [==============================] - 4s 17ms/step - loss: 0.2483 - accuracy: 0.9095 - val_loss: 0.3250 - val_accuracy: 0.8853\n",
            "Epoch 22: early stopping\n"
          ]
        }
      ]
    },
    {
      "cell_type": "code",
      "source": [
        "# Оцениваем модель\n",
        "test_loss, test_acc = model.evaluate(test_images, test_labels, verbose=2)\n",
        "print('\\nTest accuracy:', test_acc)"
      ],
      "metadata": {
        "colab": {
          "base_uri": "https://localhost:8080/"
        },
        "id": "3Je4rFrTCMKt",
        "outputId": "c83eede2-e947-42f9-d5fe-2fdb6f506802"
      },
      "execution_count": 19,
      "outputs": [
        {
          "output_type": "stream",
          "name": "stdout",
          "text": [
            "313/313 - 1s - loss: 0.3135 - accuracy: 0.8895 - 1s/epoch - 4ms/step\n",
            "\n",
            "Test accuracy: 0.8895000219345093\n"
          ]
        }
      ]
    },
    {
      "cell_type": "code",
      "source": [
        "# Получаем предсказания\n",
        "probability_model = tf.keras.Sequential([model, tf.keras.layers.Softmax()])\n",
        "predictions = probability_model.predict(test_images)\n",
        "y_pred = np.argmax(predictions, axis=1)"
      ],
      "metadata": {
        "colab": {
          "base_uri": "https://localhost:8080/"
        },
        "id": "0IED1RHeCRMC",
        "outputId": "427cec81-301b-4714-bae2-c8083dc50fd3"
      },
      "execution_count": 20,
      "outputs": [
        {
          "output_type": "stream",
          "name": "stdout",
          "text": [
            "313/313 [==============================] - 1s 3ms/step\n"
          ]
        }
      ]
    },
    {
      "cell_type": "code",
      "source": [
        "# Отображаем матрицу ошибок и значения precision/recall\n",
        "ConfusionMatrixDisplay.from_predictions(test_labels, y_pred)"
      ],
      "metadata": {
        "colab": {
          "base_uri": "https://localhost:8080/",
          "height": 466
        },
        "id": "CnJKH9DWCbT3",
        "outputId": "cbfa237f-6a93-41bc-98a2-89644f418150"
      },
      "execution_count": 21,
      "outputs": [
        {
          "output_type": "execute_result",
          "data": {
            "text/plain": [
              "<sklearn.metrics._plot.confusion_matrix.ConfusionMatrixDisplay at 0x78b547d8fd00>"
            ]
          },
          "metadata": {},
          "execution_count": 21
        },
        {
          "output_type": "display_data",
          "data": {
            "text/plain": [
              "<Figure size 640x480 with 2 Axes>"
            ],
            "image/png": "[encoded data removed]"
          },
          "metadata": {}
        }
      ]
    },
    {
      "cell_type": "code",
      "source": [
        "def recall_precision(y_true, y_pred, labels=[0, 1, 2, 3, 4, 5, 6, 7, 8, 9]):\n",
        "    precision = precision_score(y_true, y_pred, labels=labels, average=None)\n",
        "    recall = recall_score(y_true, y_pred, labels=labels, average=None)\n",
        "    for i, el in enumerate(zip(precision, recall)):\n",
        "        print(f'Класс - {i}, Точность - {el[0]:.3f}, Полнота - {el[1]:.3f}')"
      ],
      "metadata": {
        "id": "4ddPmRgTChgY"
      },
      "execution_count": 22,
      "outputs": []
    },
    {
      "cell_type": "code",
      "source": [
        "recall_precision(test_labels, y_pred)"
      ],
      "metadata": {
        "colab": {
          "base_uri": "https://localhost:8080/"
        },
        "id": "781KwXhgClzT",
        "outputId": "f5c15b46-5ea9-44f2-808b-cba559039646"
      },
      "execution_count": 23,
      "outputs": [
        {
          "output_type": "stream",
          "name": "stdout",
          "text": [
            "Класс - 0, Точность - 0.843, Полнота - 0.835\n",
            "Класс - 1, Точность - 0.988, Полнота - 0.975\n",
            "Класс - 2, Точность - 0.824, Полнота - 0.760\n",
            "Класс - 3, Точность - 0.894, Полнота - 0.882\n",
            "Класс - 4, Точность - 0.768, Полнота - 0.849\n",
            "Класс - 5, Точность - 0.977, Полнота - 0.979\n",
            "Класс - 6, Точность - 0.711, Полнота - 0.715\n",
            "Класс - 7, Точность - 0.949, Полнота - 0.964\n",
            "Класс - 8, Точность - 0.982, Полнота - 0.976\n",
            "Класс - 9, Точность - 0.971, Полнота - 0.960\n"
          ]
        }
      ]
    },
    {
      "cell_type": "markdown",
      "source": [
        "В этом обновленном коде:\n",
        "\n",
        "Добавлены слои Dropout после каждого полносвязного слоя для уменьшения переобучения модели. </br>\n",
        "Использован оптимизатор Adam для обучения модели. </br>\n",
        "Добавлена callback функция EarlyStopping для остановки обучения, когда модель перестает улучшаться на валидационном наборе данных."
      ],
      "metadata": {
        "id": "ci3peseHCsFG"
      }
    },
    {
      "cell_type": "markdown",
      "source": [
        "Улучшения не выявлены, попробуем добавить аугментацию данных, может помочь улучшить обобщающую способность модели."
      ],
      "metadata": {
        "id": "_5v514_LC0Id"
      }
    },
    {
      "cell_type": "code",
      "source": [
        "from tensorflow.keras.preprocessing.image import ImageDataGenerator"
      ],
      "metadata": {
        "id": "xf-pCr2rDDUb"
      },
      "execution_count": 24,
      "outputs": []
    },
    {
      "cell_type": "code",
      "source": [
        "datagen = ImageDataGenerator(\n",
        "    rotation_range=20,\n",
        "    width_shift_range=0.2,\n",
        "    height_shift_range=0.2,\n",
        "    shear_range=0.2,\n",
        "    zoom_range=0.2,\n",
        "    horizontal_flip=True,\n",
        "    fill_mode='nearest')"
      ],
      "metadata": {
        "id": "6YE3AMChDHcX"
      },
      "execution_count": 25,
      "outputs": []
    },
    {
      "cell_type": "code",
      "source": [
        "datagen.fit(train_images.reshape(-1, 28, 28, 1))"
      ],
      "metadata": {
        "id": "DdEW0kBsDK35"
      },
      "execution_count": 26,
      "outputs": []
    },
    {
      "cell_type": "code",
      "source": [
        "history = model.fit(datagen.flow(train_images.reshape(-1, 28, 28, 1), train_labels, batch_size=250),\n",
        "                    steps_per_epoch=len(train_images) / 250,\n",
        "                    epochs=25,\n",
        "                    validation_data=(test_images.reshape(-1, 28, 28, 1), test_labels),\n",
        "                    callbacks=[early_stopping],\n",
        "                    verbose=1)"
      ],
      "metadata": {
        "colab": {
          "base_uri": "https://localhost:8080/"
        },
        "id": "cljg2eXUDNtJ",
        "outputId": "5a8d0e4f-45f1-4491-941e-ade86b66903c"
      },
      "execution_count": 27,
      "outputs": [
        {
          "output_type": "stream",
          "name": "stdout",
          "text": [
            "Epoch 1/25\n",
            "240/240 [==============================] - 38s 144ms/step - loss: 1.3605 - accuracy: 0.4950 - val_loss: 0.5527 - val_accuracy: 0.8203\n",
            "Epoch 2/25\n",
            "240/240 [==============================] - 23s 95ms/step - loss: 1.0540 - accuracy: 0.6020 - val_loss: 0.5231 - val_accuracy: 0.8178\n",
            "Epoch 3/25\n",
            "240/240 [==============================] - 23s 94ms/step - loss: 0.9789 - accuracy: 0.6289 - val_loss: 0.5487 - val_accuracy: 0.8136\n",
            "Epoch 4/25\n",
            "240/240 [==============================] - 25s 105ms/step - loss: 0.9423 - accuracy: 0.6443 - val_loss: 0.5140 - val_accuracy: 0.8185\n",
            "Epoch 5/25\n",
            "240/240 [==============================] - 23s 95ms/step - loss: 0.9213 - accuracy: 0.6504 - val_loss: 0.5234 - val_accuracy: 0.8173\n",
            "Epoch 6/25\n",
            "240/240 [==============================] - 23s 94ms/step - loss: 0.9015 - accuracy: 0.6593 - val_loss: 0.5284 - val_accuracy: 0.8156\n",
            "Epoch 7/25\n",
            "240/240 [==============================] - ETA: 0s - loss: 0.8779 - accuracy: 0.6645Restoring model weights from the end of the best epoch: 4.\n",
            "240/240 [==============================] - 23s 96ms/step - loss: 0.8779 - accuracy: 0.6645 - val_loss: 0.5172 - val_accuracy: 0.7980\n",
            "Epoch 7: early stopping\n"
          ]
        }
      ]
    },
    {
      "cell_type": "code",
      "source": [
        "lr_scheduler = tf.keras.callbacks.ReduceLROnPlateau(\n",
        "    monitor='val_loss',  # Мониторинг потерь при проверке\n",
        "    factor=0.1,  # Фактор, на который будет снижена скорость обучения\n",
        "    patience=3,  # Количество эпох без улучшений, после которых скорость обучения будет снижена\n",
        "    verbose=1\n",
        ")"
      ],
      "metadata": {
        "id": "gWWUmMhTEJIL"
      },
      "execution_count": 28,
      "outputs": []
    },
    {
      "cell_type": "code",
      "source": [
        "history = model.fit(train_images, train_labels,\n",
        "                    epochs=25,\n",
        "                    batch_size=250,\n",
        "                    validation_data=(test_images, test_labels),\n",
        "                    callbacks=[early_stopping, lr_scheduler],\n",
        "                    verbose=1)"
      ],
      "metadata": {
        "colab": {
          "base_uri": "https://localhost:8080/"
        },
        "id": "PnVgsIN5EMba",
        "outputId": "aad042e6-3b02-4993-eee6-d6a1f2d5747d"
      },
      "execution_count": 29,
      "outputs": [
        {
          "output_type": "stream",
          "name": "stdout",
          "text": [
            "Epoch 1/25\n",
            "240/240 [==============================] - 3s 14ms/step - loss: 0.3571 - accuracy: 0.8725 - val_loss: 0.3330 - val_accuracy: 0.8800 - lr: 0.0010\n",
            "Epoch 2/25\n",
            "240/240 [==============================] - 4s 15ms/step - loss: 0.2989 - accuracy: 0.8922 - val_loss: 0.3224 - val_accuracy: 0.8856 - lr: 0.0010\n",
            "Epoch 3/25\n",
            "240/240 [==============================] - 4s 16ms/step - loss: 0.2798 - accuracy: 0.8994 - val_loss: 0.3140 - val_accuracy: 0.8885 - lr: 0.0010\n",
            "Epoch 4/25\n",
            "240/240 [==============================] - 3s 12ms/step - loss: 0.2677 - accuracy: 0.9029 - val_loss: 0.3188 - val_accuracy: 0.8882 - lr: 0.0010\n",
            "Epoch 5/25\n",
            "240/240 [==============================] - 3s 12ms/step - loss: 0.2644 - accuracy: 0.9038 - val_loss: 0.3147 - val_accuracy: 0.8878 - lr: 0.0010\n",
            "Epoch 6/25\n",
            "238/240 [============================>.] - ETA: 0s - loss: 0.2578 - accuracy: 0.9064Restoring model weights from the end of the best epoch: 3.\n",
            "\n",
            "Epoch 6: ReduceLROnPlateau reducing learning rate to 0.00010000000474974513.\n",
            "240/240 [==============================] - 4s 16ms/step - loss: 0.2581 - accuracy: 0.9064 - val_loss: 0.3324 - val_accuracy: 0.8846 - lr: 0.0010\n",
            "Epoch 6: early stopping\n"
          ]
        }
      ]
    },
    {
      "cell_type": "markdown",
      "source": [
        "В этом коде применены методы увеличения данных и использован планировщик скорости обучения."
      ],
      "metadata": {
        "id": "720SsihHFCDE"
      }
    },
    {
      "cell_type": "markdown",
      "source": [
        "Применим сверточную нейронную сеть (CNN), которая обычно лучше подходит для работы с изображениями."
      ],
      "metadata": {
        "id": "dbHNk4wOFwgA"
      }
    },
    {
      "cell_type": "code",
      "source": [
        "from tensorflow.keras.preprocessing.image import ImageDataGenerator\n",
        "from tensorflow.keras.layers import Conv2D, MaxPooling2D, BatchNormalization\n",
        "from tensorflow.keras import datasets, layers, models"
      ],
      "metadata": {
        "id": "nwYrQSZzF_4e"
      },
      "execution_count": 36,
      "outputs": []
    },
    {
      "cell_type": "code",
      "source": [
        "train_datagen = ImageDataGenerator(\n",
        "    rotation_range=20,\n",
        "    width_shift_range=0.2,\n",
        "    height_shift_range=0.2,\n",
        "    shear_range=0.2,\n",
        "    zoom_range=0.2,\n",
        "    horizontal_flip=True,\n",
        "    fill_mode='nearest')"
      ],
      "metadata": {
        "id": "K_AcD4JrGD9u"
      },
      "execution_count": 37,
      "outputs": []
    },
    {
      "cell_type": "code",
      "source": [
        "train_datagen.fit(train_images.reshape(-1, 28, 28, 1))"
      ],
      "metadata": {
        "id": "U9lsjksEGKAf"
      },
      "execution_count": 38,
      "outputs": []
    },
    {
      "cell_type": "markdown",
      "source": [
        "Создади генератор проверочных данных без дополнения"
      ],
      "metadata": {
        "id": "X92quU4xGVbm"
      }
    },
    {
      "cell_type": "code",
      "source": [
        "test_datagen = ImageDataGenerator()"
      ],
      "metadata": {
        "id": "6pKFhiwBGNqq"
      },
      "execution_count": 39,
      "outputs": []
    },
    {
      "cell_type": "code",
      "source": [
        "model = models.Sequential([\n",
        "    layers.Conv2D(32, (3, 3), activation='relu', input_shape=(28, 28, 1)),\n",
        "    layers.MaxPooling2D((2, 2)),\n",
        "    layers.Conv2D(64, (3, 3), activation='relu'),\n",
        "    layers.MaxPooling2D((2, 2)),\n",
        "    layers.Flatten(),\n",
        "    layers.Dense(128, activation='relu'),\n",
        "    layers.Dense(10)\n",
        "])"
      ],
      "metadata": {
        "id": "0-h4AjwaGjSG"
      },
      "execution_count": 40,
      "outputs": []
    },
    {
      "cell_type": "code",
      "source": [
        "model.compile(optimizer='adam',\n",
        "              loss=tf.keras.losses.SparseCategoricalCrossentropy(from_logits=True),\n",
        "              metrics=['accuracy'])"
      ],
      "metadata": {
        "id": "jIGVktKTHwPI"
      },
      "execution_count": 41,
      "outputs": []
    },
    {
      "cell_type": "code",
      "source": [
        "early_stopping = callbacks.EarlyStopping(\n",
        "    min_delta=0.001,\n",
        "    patience=3,\n",
        "    restore_best_weights=True,\n",
        "    verbose=1\n",
        ")"
      ],
      "metadata": {
        "id": "_iA6rrNuI2pK"
      },
      "execution_count": 43,
      "outputs": []
    },
    {
      "cell_type": "code",
      "source": [
        "history = model.fit(train_datagen.flow(train_images.reshape(-1, 28, 28, 1), train_labels, batch_size=250),\n",
        "                    steps_per_epoch=len(train_images) / 250,\n",
        "                    epochs=25,\n",
        "                    validation_data=test_datagen.flow(test_images.reshape(-1, 28, 28, 1), test_labels),\n",
        "                    callbacks=[early_stopping],\n",
        "                    verbose=1)\n"
      ],
      "metadata": {
        "colab": {
          "base_uri": "https://localhost:8080/"
        },
        "id": "KbzqIXULI5_G",
        "outputId": "bdf1e747-2c51-4117-a7ce-3be17cd1bc8f"
      },
      "execution_count": 44,
      "outputs": [
        {
          "output_type": "stream",
          "name": "stdout",
          "text": [
            "Epoch 1/25\n",
            "240/240 [==============================] - 57s 237ms/step - loss: 0.9875 - accuracy: 0.6692 - val_loss: 0.4060 - val_accuracy: 0.8515\n",
            "Epoch 2/25\n",
            "240/240 [==============================] - 57s 239ms/step - loss: 0.6482 - accuracy: 0.7635 - val_loss: 0.4023 - val_accuracy: 0.8538\n",
            "Epoch 3/25\n",
            "240/240 [==============================] - 59s 245ms/step - loss: 0.5977 - accuracy: 0.7820 - val_loss: 0.3806 - val_accuracy: 0.8597\n",
            "Epoch 4/25\n",
            "240/240 [==============================] - 57s 238ms/step - loss: 0.5641 - accuracy: 0.7938 - val_loss: 0.3969 - val_accuracy: 0.8520\n",
            "Epoch 5/25\n",
            "240/240 [==============================] - 56s 233ms/step - loss: 0.5336 - accuracy: 0.8049 - val_loss: 0.3742 - val_accuracy: 0.8658\n",
            "Epoch 6/25\n",
            "240/240 [==============================] - 61s 254ms/step - loss: 0.5160 - accuracy: 0.8107 - val_loss: 0.3742 - val_accuracy: 0.8654\n",
            "Epoch 7/25\n",
            "240/240 [==============================] - 58s 240ms/step - loss: 0.5054 - accuracy: 0.8143 - val_loss: 0.3767 - val_accuracy: 0.8651\n",
            "Epoch 8/25\n",
            "240/240 [==============================] - ETA: 0s - loss: 0.4966 - accuracy: 0.8183Restoring model weights from the end of the best epoch: 5.\n",
            "240/240 [==============================] - 58s 241ms/step - loss: 0.4966 - accuracy: 0.8183 - val_loss: 0.3990 - val_accuracy: 0.8544\n",
            "Epoch 8: early stopping\n"
          ]
        }
      ]
    },
    {
      "cell_type": "code",
      "source": [
        "test_loss, test_acc = model.evaluate(test_images.reshape(-1, 28, 28, 1), test_labels, verbose=2)\n",
        "print('\\nTest accuracy:', test_acc)"
      ],
      "metadata": {
        "colab": {
          "base_uri": "https://localhost:8080/"
        },
        "id": "VCk7m7ykI_mu",
        "outputId": "593faf9b-8af9-4ef3-8d29-dfe6ac1ef05a"
      },
      "execution_count": 45,
      "outputs": [
        {
          "output_type": "stream",
          "name": "stdout",
          "text": [
            "313/313 - 3s - loss: 0.3742 - accuracy: 0.8658 - 3s/epoch - 11ms/step\n",
            "\n",
            "Test accuracy: 0.8658000230789185\n"
          ]
        }
      ]
    },
    {
      "cell_type": "code",
      "source": [
        "probability_model = tf.keras.Sequential([model, tf.keras.layers.Softmax()])\n",
        "predictions = probability_model.predict(test_images.reshape(-1, 28, 28, 1))\n",
        "y_pred = np.argmax(predictions, axis=1)"
      ],
      "metadata": {
        "colab": {
          "base_uri": "https://localhost:8080/"
        },
        "id": "iJp7kqbpJBTk",
        "outputId": "1b2d3974-2c0a-425e-8ed4-b9d8e32f3c39"
      },
      "execution_count": 46,
      "outputs": [
        {
          "output_type": "stream",
          "name": "stdout",
          "text": [
            "313/313 [==============================] - 5s 17ms/step\n"
          ]
        }
      ]
    },
    {
      "cell_type": "code",
      "source": [
        "ConfusionMatrixDisplay.from_predictions(test_labels, y_pred)"
      ],
      "metadata": {
        "colab": {
          "base_uri": "https://localhost:8080/",
          "height": 466
        },
        "id": "-RQCKbknJFj6",
        "outputId": "e6c8621c-a0be-49c2-9cbf-036916fb0118"
      },
      "execution_count": 47,
      "outputs": [
        {
          "output_type": "execute_result",
          "data": {
            "text/plain": [
              "<sklearn.metrics._plot.confusion_matrix.ConfusionMatrixDisplay at 0x78b544744670>"
            ]
          },
          "metadata": {},
          "execution_count": 47
        },
        {
          "output_type": "display_data",
          "data": {
            "text/plain": [
              "<Figure size 640x480 with 2 Axes>"
            ],
            "image/png": "[encoded data removed]"
          },
          "metadata": {}
        }
      ]
    },
    {
      "cell_type": "code",
      "source": [
        "def recall_precision(y_true, y_pred, labels=[0, 1, 2, 3, 4, 5, 6, 7, 8, 9]):\n",
        "    precision = precision_score(y_true, y_pred, labels=labels, average=None)\n",
        "    recall = recall_score(y_true, y_pred, labels=labels, average=None)\n",
        "    for i, el in enumerate(zip(precision, recall)):\n",
        "        print(f'Class - {i}, Precision - {el[0]:.3f}, Recall - {el[1]:.3f}')"
      ],
      "metadata": {
        "id": "yMo1-WdLJItk"
      },
      "execution_count": 48,
      "outputs": []
    },
    {
      "cell_type": "code",
      "source": [
        "recall_precision(test_labels, y_pred)"
      ],
      "metadata": {
        "colab": {
          "base_uri": "https://localhost:8080/"
        },
        "id": "7zRrD7eOJK0X",
        "outputId": "90750788-81ff-431d-d2fc-1c647d1cbe7a"
      },
      "execution_count": 49,
      "outputs": [
        {
          "output_type": "stream",
          "name": "stdout",
          "text": [
            "Class - 0, Precision - 0.768, Recall - 0.865\n",
            "Class - 1, Precision - 0.983, Recall - 0.974\n",
            "Class - 2, Precision - 0.848, Recall - 0.802\n",
            "Class - 3, Precision - 0.922, Recall - 0.805\n",
            "Class - 4, Precision - 0.842, Recall - 0.766\n",
            "Class - 5, Precision - 0.924, Recall - 0.963\n",
            "Class - 6, Precision - 0.606, Recall - 0.679\n",
            "Class - 7, Precision - 0.942, Recall - 0.873\n",
            "Class - 8, Precision - 0.958, Recall - 0.973\n",
            "Class - 9, Precision - 0.913, Recall - 0.958\n"
          ]
        }
      ]
    },
    {
      "cell_type": "markdown",
      "source": [
        "1. Применяется сверточная нейронная сеть (CNN), которая обычно лучше подходит для работы с изображениями. </br>\n",
        "2. Добавляется слой BatchNormalization после каждого сверточного слоя для улучшения стабильности обучения. </br>\n",
        "3. Данные подаются в нейросеть в формате 4D, соответствующему ожидаемому формату для сверточных слоев (batch_size, width, height, channels). </br>\n",
        "4. Используются генераторы данных как для обучения, так и для валидации, что позволяет применять аугментацию только к обучающим данным. </br>\n",
        "5. Применяется сверточный слой с последующим слоем MaxPooling для уменьшения размерности данных и извлечения признаков. </br>\n",
        "6. В коде также используются ранее описанные улучшения, такие как ранняя остановка обучения и вычисление точности, confusion matrix, precision и recall."
      ],
      "metadata": {
        "id": "eDNJuT05JWNf"
      }
    },
    {
      "cell_type": "markdown",
      "source": [
        "Вывод: как ранее говорилось, что лучшим вариантом является использование связки 2х сетей. Все последущие манипуляции оказались не рабочими и улучшить показатели так и не удалось."
      ],
      "metadata": {
        "id": "4We68SatNcjl"
      }
    }
  ]
}