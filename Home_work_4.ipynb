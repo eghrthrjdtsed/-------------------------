{
  "nbformat": 4,
  "nbformat_minor": 0,
  "metadata": {
    "colab": {
      "provenance": [],
      "gpuType": "T4",
      "authorship_tag": "ABX9TyMd7qv26wr54M8T32l6Jpls",
      "include_colab_link": true
    },
    "kernelspec": {
      "name": "python3",
      "display_name": "Python 3"
    },
    "language_info": {
      "name": "python"
    },
    "accelerator": "GPU"
  },
  "cells": [
    {
      "cell_type": "markdown",
      "metadata": {
        "id": "view-in-github",
        "colab_type": "text"
      },
      "source": [
        "<a href=\"https://colab.research.google.com/github/eghrthrjdtsed/-------------------------/blob/master/Home_work_4.ipynb\" target=\"_parent\"><img src=\"https://colab.research.google.com/assets/colab-badge.svg\" alt=\"Open In Colab\"/></a>"
      ]
    },
    {
      "cell_type": "markdown",
      "source": [
        "Попробуйте улучшить точность распознавания образов cifar 10 сверточной нейронной сетью, рассмотренной на уроке.\n",
        "\n",
        "Приложите анализ с описанием того, что улучшает работу нейронной сети, а что ухудшает.\n",
        "\n",
        "Опишите в анализе, какие изменения необходимо было бы внести в получившуюся нейронную сеть, если бы ей нужно было работать не с cifar10, а с MNIST, CIFAR100 и IMAGENET"
      ],
      "metadata": {
        "id": "WlXUoT3KiWQ3"
      }
    },
    {
      "cell_type": "code",
      "source": [
        "from tensorflow.keras.datasets import cifar10\n",
        "from tensorflow.keras.preprocessing.image import ImageDataGenerator\n",
        "from tensorflow.keras.utils import to_categorical\n",
        "from tensorflow.keras.models import Sequential\n",
        "from tensorflow.keras.layers import Dense, Dropout, Activation, Flatten\n",
        "from tensorflow.keras.layers import Conv2D, MaxPooling2D\n",
        "# import os\n",
        "import matplotlib.pyplot as plt\n",
        "import numpy as np"
      ],
      "metadata": {
        "id": "xu7lzmE5iXmS"
      },
      "execution_count": 1,
      "outputs": []
    },
    {
      "cell_type": "code",
      "source": [
        "from keras.layers import Dropout\n",
        "Dropout(rate=0.5)"
      ],
      "metadata": {
        "colab": {
          "base_uri": "https://localhost:8080/"
        },
        "id": "hjYp6MLIjjtZ",
        "outputId": "33f1ce46-dfba-4cf1-89e2-de1ca4d959c9"
      },
      "execution_count": 2,
      "outputs": [
        {
          "output_type": "execute_result",
          "data": {
            "text/plain": [
              "<keras.src.layers.regularization.dropout.Dropout at 0x7ed08c789c30>"
            ]
          },
          "metadata": {},
          "execution_count": 2
        }
      ]
    },
    {
      "cell_type": "code",
      "source": [
        "from keras.layers import BatchNormalization\n",
        "\n",
        "Sequential([\n",
        "    BatchNormalization(input_shape=(8, 8, 2))\n",
        "]).summary()"
      ],
      "metadata": {
        "colab": {
          "base_uri": "https://localhost:8080/"
        },
        "id": "-X7lainEkJi9",
        "outputId": "23f46e09-151e-4b92-db0f-302b1dd44838"
      },
      "execution_count": 3,
      "outputs": [
        {
          "output_type": "stream",
          "name": "stdout",
          "text": [
            "Model: \"sequential\"\n",
            "_________________________________________________________________\n",
            " Layer (type)                Output Shape              Param #   \n",
            "=================================================================\n",
            " batch_normalization (Batch  (None, 8, 8, 2)           8         \n",
            " Normalization)                                                  \n",
            "                                                                 \n",
            "=================================================================\n",
            "Total params: 8 (32.00 Byte)\n",
            "Trainable params: 4 (16.00 Byte)\n",
            "Non-trainable params: 4 (16.00 Byte)\n",
            "_________________________________________________________________\n"
          ]
        }
      ]
    },
    {
      "cell_type": "code",
      "source": [
        "# установка параметров нейросети\n",
        "\n",
        "batch_size = 512\n",
        "num_classes = 10\n",
        "epochs = 5\n",
        "data_augmentation = False\n",
        "num_predictions = 20\n",
        "# save_dir = os.path.join(os.getcwd(), 'saved_models')\n",
        "model_name = 'keras_cifar10_trained_model.h5'\n",
        "\n",
        "# разделение тренировочной и тестовой выборки\n",
        "(X_train, y_train), (X_test, y_test) = cifar10.load_data()\n",
        "print('X_train shape:', X_train.shape)\n",
        "print(X_train.shape[0], 'тренировочные примеры')\n",
        "print(X_test.shape[0], 'тестовые примеры')\n",
        "\n",
        "# преобразование матрицы чисел 0-9 в бинарную матрицу чисел 0-1\n",
        "y_train = to_categorical(y_train, num_classes)\n",
        "y_test = to_categorical(y_test, num_classes)\n",
        "\n",
        "\n",
        "X_train = X_train / 255.0\n",
        "X_test = X_test / 255.0"
      ],
      "metadata": {
        "colab": {
          "base_uri": "https://localhost:8080/"
        },
        "id": "qm7SB1CzkQch",
        "outputId": "b1b3054b-af80-45c1-abb8-0ad553c62cd8"
      },
      "execution_count": 4,
      "outputs": [
        {
          "output_type": "stream",
          "name": "stdout",
          "text": [
            "Downloading data from https://www.cs.toronto.edu/~kriz/cifar-10-python.tar.gz\n",
            "170498071/170498071 [==============================] - 3s 0us/step\n",
            "X_train shape: (50000, 32, 32, 3)\n",
            "50000 тренировочные примеры\n",
            "10000 тестовые примеры\n"
          ]
        }
      ]
    },
    {
      "cell_type": "code",
      "source": [
        "# конфигурирование слоев нейросети\n",
        "model = Sequential()\n",
        "\n",
        "# слои нейросети отвественные за свертку и max-pooling\n",
        "model.add(Conv2D(32, (3, 3), padding='same', input_shape=X_train.shape[1:]))\n",
        "model.add(Activation('relu'))\n",
        "model.add(Conv2D(32, (3, 3)))\n",
        "model.add(Activation('relu'))\n",
        "model.add(MaxPooling2D(pool_size=(2, 2)))\n",
        "model.add(Dropout(0.25))\n",
        "\n",
        "model.add(Conv2D(64, (3, 3), padding='same'))\n",
        "model.add(Activation('relu'))\n",
        "model.add(Conv2D(64, (3, 3)))\n",
        "model.add(Activation('relu'))\n",
        "model.add(MaxPooling2D(pool_size=(2, 2)))\n",
        "model.add(Dropout(0.25))\n",
        "\n",
        "# полносвязные слои нейронной сети\n",
        "model.add(Flatten())\n",
        "model.add(Dense(512))\n",
        "model.add(Activation('relu'))\n",
        "model.add(Dropout(0.5))\n",
        "model.add(Dense(num_classes))\n",
        "model.add(Activation('softmax'))\n",
        "\n",
        "model.summary()\n",
        "# компиляция модели\n",
        "model.compile(loss='categorical_crossentropy',\n",
        "              optimizer='SGD',\n",
        "              metrics=['accuracy'])"
      ],
      "metadata": {
        "colab": {
          "base_uri": "https://localhost:8080/"
        },
        "id": "T0sd1EYtkcUB",
        "outputId": "b0aeea6b-7225-4f6a-e8a4-3f453513ee28"
      },
      "execution_count": 5,
      "outputs": [
        {
          "output_type": "stream",
          "name": "stdout",
          "text": [
            "Model: \"sequential_1\"\n",
            "_________________________________________________________________\n",
            " Layer (type)                Output Shape              Param #   \n",
            "=================================================================\n",
            " conv2d (Conv2D)             (None, 32, 32, 32)        896       \n",
            "                                                                 \n",
            " activation (Activation)     (None, 32, 32, 32)        0         \n",
            "                                                                 \n",
            " conv2d_1 (Conv2D)           (None, 30, 30, 32)        9248      \n",
            "                                                                 \n",
            " activation_1 (Activation)   (None, 30, 30, 32)        0         \n",
            "                                                                 \n",
            " max_pooling2d (MaxPooling2  (None, 15, 15, 32)        0         \n",
            " D)                                                              \n",
            "                                                                 \n",
            " dropout_1 (Dropout)         (None, 15, 15, 32)        0         \n",
            "                                                                 \n",
            " conv2d_2 (Conv2D)           (None, 15, 15, 64)        18496     \n",
            "                                                                 \n",
            " activation_2 (Activation)   (None, 15, 15, 64)        0         \n",
            "                                                                 \n",
            " conv2d_3 (Conv2D)           (None, 13, 13, 64)        36928     \n",
            "                                                                 \n",
            " activation_3 (Activation)   (None, 13, 13, 64)        0         \n",
            "                                                                 \n",
            " max_pooling2d_1 (MaxPoolin  (None, 6, 6, 64)          0         \n",
            " g2D)                                                            \n",
            "                                                                 \n",
            " dropout_2 (Dropout)         (None, 6, 6, 64)          0         \n",
            "                                                                 \n",
            " flatten (Flatten)           (None, 2304)              0         \n",
            "                                                                 \n",
            " dense (Dense)               (None, 512)               1180160   \n",
            "                                                                 \n",
            " activation_4 (Activation)   (None, 512)               0         \n",
            "                                                                 \n",
            " dropout_3 (Dropout)         (None, 512)               0         \n",
            "                                                                 \n",
            " dense_1 (Dense)             (None, 10)                5130      \n",
            "                                                                 \n",
            " activation_5 (Activation)   (None, 10)                0         \n",
            "                                                                 \n",
            "=================================================================\n",
            "Total params: 1250858 (4.77 MB)\n",
            "Trainable params: 1250858 (4.77 MB)\n",
            "Non-trainable params: 0 (0.00 Byte)\n",
            "_________________________________________________________________\n"
          ]
        }
      ]
    },
    {
      "cell_type": "code",
      "source": [
        "data_augmentation = True"
      ],
      "metadata": {
        "id": "LMIGrMPhke3q"
      },
      "execution_count": 6,
      "outputs": []
    },
    {
      "cell_type": "code",
      "source": [
        "if not data_augmentation:\n",
        "    print('Не используется data augmentation')\n",
        "    model.fit(X_train, y_train,\n",
        "              batch_size=batch_size,\n",
        "              epochs=epochs,\n",
        "              validation_data=(X_test, y_test),\n",
        "              shuffle=True)\n",
        "else:\n",
        "    print('Использование data augmentation')\n",
        "    # Препроцессинг и data augmentation в реальном времени:\n",
        "    datagen = ImageDataGenerator(\n",
        "        featurewise_center=False,\n",
        "        samplewise_center=False,\n",
        "        featurewise_std_normalization=False,\n",
        "        samplewise_std_normalization=False,\n",
        "        zca_whitening=False,\n",
        "        zca_epsilon=1e-06,\n",
        "        rotation_range=10,\n",
        "        width_shift_range=0.1,\n",
        "        height_shift_range=0.1,\n",
        "        shear_range=0.,\n",
        "        zoom_range=0.2,\n",
        "        channel_shift_range=0.,\n",
        "        fill_mode='nearest',\n",
        "        cval=0.,\n",
        "        horizontal_flip=True,\n",
        "        vertical_flip=False,\n",
        "        rescale=None,\n",
        "        preprocessing_function=None,\n",
        "        data_format=None,\n",
        "        validation_split=0.0)\n",
        "\n",
        "\n",
        "    train_gen = datagen.flow(X_train,\n",
        "                             y_train,\n",
        "                             batch_size=batch_size)\n",
        "\n",
        "    # запуск data augmentation через fit\n",
        "    model.fit(train_gen,\n",
        "              epochs=epochs,\n",
        "              validation_data=(X_test, y_test))"
      ],
      "metadata": {
        "colab": {
          "base_uri": "https://localhost:8080/"
        },
        "id": "OwnIVfi5kjz6",
        "outputId": "29fc235e-ae7b-4d07-f8d8-d3dcb3185d3d"
      },
      "execution_count": 7,
      "outputs": [
        {
          "output_type": "stream",
          "name": "stdout",
          "text": [
            "Использование data augmentation\n",
            "Epoch 1/5\n",
            "98/98 [==============================] - 35s 285ms/step - loss: 2.3037 - accuracy: 0.1009 - val_loss: 2.2953 - val_accuracy: 0.1364\n",
            "Epoch 2/5\n",
            "98/98 [==============================] - 29s 298ms/step - loss: 2.2923 - accuracy: 0.1195 - val_loss: 2.2835 - val_accuracy: 0.1540\n",
            "Epoch 3/5\n",
            "98/98 [==============================] - 27s 277ms/step - loss: 2.2763 - accuracy: 0.1373 - val_loss: 2.2568 - val_accuracy: 0.1904\n",
            "Epoch 4/5\n",
            "98/98 [==============================] - 27s 273ms/step - loss: 2.2362 - accuracy: 0.1672 - val_loss: 2.1868 - val_accuracy: 0.2214\n",
            "Epoch 5/5\n",
            "98/98 [==============================] - 29s 298ms/step - loss: 2.1604 - accuracy: 0.1967 - val_loss: 2.0826 - val_accuracy: 0.2538\n"
          ]
        }
      ]
    },
    {
      "cell_type": "code",
      "source": [
        "# # сохранение модели и весов\n",
        "# if not os.path.isdir(save_dir):\n",
        "#     os.makedirs(save_dir)\n",
        "\n",
        "# model_path = os.path.join(save_dir, model_name)\n",
        "# model.save(model_path)\n",
        "# print(f'сохранить обученную модель как {model_path}')\n",
        "\n",
        "# проверка работы обученной модели\n",
        "scores = model.evaluate(X_test, y_test, verbose=1)\n",
        "print('Test loss:', scores[0])\n",
        "print('Test accuracy:', scores[1])"
      ],
      "metadata": {
        "colab": {
          "base_uri": "https://localhost:8080/"
        },
        "id": "mp5Tu9Mykt5o",
        "outputId": "16ef62da-620f-40f3-b32e-e8176733a9e1"
      },
      "execution_count": 8,
      "outputs": [
        {
          "output_type": "stream",
          "name": "stdout",
          "text": [
            "313/313 [==============================] - 1s 4ms/step - loss: 2.0826 - accuracy: 0.2538\n",
            "Test loss: 2.082630157470703\n",
            "Test accuracy: 0.25380000472068787\n"
          ]
        }
      ]
    },
    {
      "cell_type": "markdown",
      "source": [
        "Точность распознавания образов cifar 10 сверточной нейронной сетью, рассмотренной на уроке, равна 0.2538.\n"
      ],
      "metadata": {
        "id": "pJ1JNUxWk7ry"
      }
    },
    {
      "cell_type": "markdown",
      "source": [
        "Вношу изменения в Droput:"
      ],
      "metadata": {
        "id": "zbiczCywnvge"
      }
    },
    {
      "cell_type": "code",
      "source": [
        "# конфигурирование слоев нейросети\n",
        "model = Sequential()\n",
        "\n",
        "# слои нейросети ответственные за свертку и max-pooling\n",
        "model.add(Conv2D(32, (3, 3), padding='same', input_shape=X_train.shape[1:]))\n",
        "model.add(Activation('relu'))\n",
        "model.add(Conv2D(32, (3, 3)))\n",
        "model.add(Activation('relu'))\n",
        "model.add(MaxPooling2D(pool_size=(2, 2)))\n",
        "model.add(Dropout(0.15))\n",
        "\n",
        "model.add(Conv2D(64, (3, 3), padding='same'))\n",
        "model.add(Activation('relu'))\n",
        "model.add(Conv2D(64, (3, 3)))\n",
        "model.add(Activation('relu'))\n",
        "model.add(MaxPooling2D(pool_size=(2, 2)))\n",
        "model.add(Dropout(0.15))\n",
        "\n",
        "# полносвязные слои нейронной сети\n",
        "model.add(Flatten())\n",
        "model.add(Dense(512))\n",
        "model.add(Activation('relu'))\n",
        "model.add(Dropout(0.25))\n",
        "model.add(Dense(num_classes))\n",
        "model.add(Activation('softmax'))\n",
        "\n",
        "model.summary()\n",
        "# компиляция модели\n",
        "model.compile(loss='categorical_crossentropy',\n",
        "              optimizer='SGD',\n",
        "              metrics=['accuracy'])\n",
        "\n",
        "if not data_augmentation:\n",
        "    print('Не используется data augmentation')\n",
        "    model.fit(X_train, y_train,\n",
        "              batch_size=batch_size,\n",
        "              epochs=epochs,\n",
        "              validation_data=(X_test, y_test),\n",
        "              shuffle=True)\n",
        "else:\n",
        "    print('Использование data augmentation')\n",
        "    # Препроцессинг и data augmentation в реальном времени:\n",
        "    datagen = ImageDataGenerator(\n",
        "        featurewise_center=False,\n",
        "        samplewise_center=False,\n",
        "        featurewise_std_normalization=False,\n",
        "        samplewise_std_normalization=False,\n",
        "        zca_whitening=False,\n",
        "        zca_epsilon=1e-06,\n",
        "        rotation_range=10,\n",
        "        width_shift_range=0.1,\n",
        "        height_shift_range=0.1,\n",
        "        shear_range=0.,\n",
        "        zoom_range=0.2,\n",
        "        channel_shift_range=0.,\n",
        "        fill_mode='nearest',\n",
        "        cval=0.,\n",
        "        horizontal_flip=True,\n",
        "        vertical_flip=False,\n",
        "        rescale=None,\n",
        "        preprocessing_function=None,\n",
        "        data_format=None,\n",
        "        validation_split=0.0)\n",
        "\n",
        "\n",
        "    train_gen = datagen.flow(X_train,\n",
        "                             y_train,\n",
        "                             batch_size=batch_size)\n",
        "\n",
        "    # запуск data augmentation через fit_generator\n",
        "    model.fit(train_gen,\n",
        "              epochs=epochs,\n",
        "              validation_data=(X_test, y_test))"
      ],
      "metadata": {
        "colab": {
          "base_uri": "https://localhost:8080/"
        },
        "id": "0iussEYUoLln",
        "outputId": "0b30ba90-876e-4d28-a2cb-2c6a347bd9f3"
      },
      "execution_count": 9,
      "outputs": [
        {
          "output_type": "stream",
          "name": "stdout",
          "text": [
            "Model: \"sequential_2\"\n",
            "_________________________________________________________________\n",
            " Layer (type)                Output Shape              Param #   \n",
            "=================================================================\n",
            " conv2d_4 (Conv2D)           (None, 32, 32, 32)        896       \n",
            "                                                                 \n",
            " activation_6 (Activation)   (None, 32, 32, 32)        0         \n",
            "                                                                 \n",
            " conv2d_5 (Conv2D)           (None, 30, 30, 32)        9248      \n",
            "                                                                 \n",
            " activation_7 (Activation)   (None, 30, 30, 32)        0         \n",
            "                                                                 \n",
            " max_pooling2d_2 (MaxPoolin  (None, 15, 15, 32)        0         \n",
            " g2D)                                                            \n",
            "                                                                 \n",
            " dropout_4 (Dropout)         (None, 15, 15, 32)        0         \n",
            "                                                                 \n",
            " conv2d_6 (Conv2D)           (None, 15, 15, 64)        18496     \n",
            "                                                                 \n",
            " activation_8 (Activation)   (None, 15, 15, 64)        0         \n",
            "                                                                 \n",
            " conv2d_7 (Conv2D)           (None, 13, 13, 64)        36928     \n",
            "                                                                 \n",
            " activation_9 (Activation)   (None, 13, 13, 64)        0         \n",
            "                                                                 \n",
            " max_pooling2d_3 (MaxPoolin  (None, 6, 6, 64)          0         \n",
            " g2D)                                                            \n",
            "                                                                 \n",
            " dropout_5 (Dropout)         (None, 6, 6, 64)          0         \n",
            "                                                                 \n",
            " flatten_1 (Flatten)         (None, 2304)              0         \n",
            "                                                                 \n",
            " dense_2 (Dense)             (None, 512)               1180160   \n",
            "                                                                 \n",
            " activation_10 (Activation)  (None, 512)               0         \n",
            "                                                                 \n",
            " dropout_6 (Dropout)         (None, 512)               0         \n",
            "                                                                 \n",
            " dense_3 (Dense)             (None, 10)                5130      \n",
            "                                                                 \n",
            " activation_11 (Activation)  (None, 10)                0         \n",
            "                                                                 \n",
            "=================================================================\n",
            "Total params: 1250858 (4.77 MB)\n",
            "Trainable params: 1250858 (4.77 MB)\n",
            "Non-trainable params: 0 (0.00 Byte)\n",
            "_________________________________________________________________\n",
            "Использование data augmentation\n",
            "Epoch 1/5\n",
            "98/98 [==============================] - 30s 289ms/step - loss: 2.3011 - accuracy: 0.1068 - val_loss: 2.2961 - val_accuracy: 0.1119\n",
            "Epoch 2/5\n",
            "98/98 [==============================] - 28s 281ms/step - loss: 2.2915 - accuracy: 0.1209 - val_loss: 2.2828 - val_accuracy: 0.1189\n",
            "Epoch 3/5\n",
            "98/98 [==============================] - 28s 285ms/step - loss: 2.2710 - accuracy: 0.1329 - val_loss: 2.2462 - val_accuracy: 0.1515\n",
            "Epoch 4/5\n",
            "98/98 [==============================] - 28s 283ms/step - loss: 2.2110 - accuracy: 0.1823 - val_loss: 2.1311 - val_accuracy: 0.2501\n",
            "Epoch 5/5\n",
            "98/98 [==============================] - 27s 277ms/step - loss: 2.1037 - accuracy: 0.2227 - val_loss: 2.0348 - val_accuracy: 0.2715\n"
          ]
        }
      ]
    },
    {
      "cell_type": "code",
      "source": [
        "# проверка работы обученной модели\n",
        "scores = model.evaluate(X_test, y_test, verbose=1)\n",
        "print('Test loss:', scores[0])\n",
        "print('Test accuracy:', scores[1])"
      ],
      "metadata": {
        "colab": {
          "base_uri": "https://localhost:8080/"
        },
        "id": "h6meS36NoP1I",
        "outputId": "30c37c35-4b6e-468a-9cb2-cc71f8d99f3c"
      },
      "execution_count": 10,
      "outputs": [
        {
          "output_type": "stream",
          "name": "stdout",
          "text": [
            "313/313 [==============================] - 1s 4ms/step - loss: 2.0348 - accuracy: 0.2715\n",
            "Test loss: 2.034810781478882\n",
            "Test accuracy: 0.27149999141693115\n"
          ]
        }
      ]
    },
    {
      "cell_type": "markdown",
      "source": [
        "Распознавания образов cifar 10 сверточной нейронной сетью при изменении Dropout в каждом слое точнее и равна 0.2715.\n"
      ],
      "metadata": {
        "id": "Yq9tn1oXoSt_"
      }
    },
    {
      "cell_type": "markdown",
      "source": [
        "Вношу изменения в параметры data augmentation:"
      ],
      "metadata": {
        "id": "jQTQSZBIoX30"
      }
    },
    {
      "cell_type": "code",
      "source": [
        "# конфигурирование слоев нейросети\n",
        "model = Sequential()\n",
        "\n",
        "# слои нейросети отвественные за свертку и max-pooling\n",
        "model.add(Conv2D(32, (3, 3), padding='same', input_shape=X_train.shape[1:]))\n",
        "model.add(Activation('relu'))\n",
        "model.add(Conv2D(32, (3, 3)))\n",
        "model.add(Activation('relu'))\n",
        "model.add(MaxPooling2D(pool_size=(2, 2)))\n",
        "model.add(Dropout(0.25))\n",
        "\n",
        "model.add(Conv2D(64, (3, 3), padding='same'))\n",
        "model.add(Activation('relu'))\n",
        "model.add(Conv2D(64, (3, 3)))\n",
        "model.add(Activation('relu'))\n",
        "model.add(MaxPooling2D(pool_size=(2, 2)))\n",
        "model.add(Dropout(0.25))\n",
        "\n",
        "# полносвязные слои нейронной сети\n",
        "model.add(Flatten())\n",
        "model.add(Dense(512))\n",
        "model.add(Activation('relu'))\n",
        "model.add(Dropout(0.5))\n",
        "model.add(Dense(num_classes))\n",
        "model.add(Activation('softmax'))\n",
        "\n",
        "model.summary()\n",
        "# компиляция модели\n",
        "model.compile(loss='categorical_crossentropy',\n",
        "              optimizer='SGD',\n",
        "              metrics=['accuracy'])"
      ],
      "metadata": {
        "colab": {
          "base_uri": "https://localhost:8080/"
        },
        "id": "xL940i8boc8o",
        "outputId": "29e7327a-270c-4a47-c526-5c6f4cd997d5"
      },
      "execution_count": 11,
      "outputs": [
        {
          "output_type": "stream",
          "name": "stdout",
          "text": [
            "Model: \"sequential_3\"\n",
            "_________________________________________________________________\n",
            " Layer (type)                Output Shape              Param #   \n",
            "=================================================================\n",
            " conv2d_8 (Conv2D)           (None, 32, 32, 32)        896       \n",
            "                                                                 \n",
            " activation_12 (Activation)  (None, 32, 32, 32)        0         \n",
            "                                                                 \n",
            " conv2d_9 (Conv2D)           (None, 30, 30, 32)        9248      \n",
            "                                                                 \n",
            " activation_13 (Activation)  (None, 30, 30, 32)        0         \n",
            "                                                                 \n",
            " max_pooling2d_4 (MaxPoolin  (None, 15, 15, 32)        0         \n",
            " g2D)                                                            \n",
            "                                                                 \n",
            " dropout_7 (Dropout)         (None, 15, 15, 32)        0         \n",
            "                                                                 \n",
            " conv2d_10 (Conv2D)          (None, 15, 15, 64)        18496     \n",
            "                                                                 \n",
            " activation_14 (Activation)  (None, 15, 15, 64)        0         \n",
            "                                                                 \n",
            " conv2d_11 (Conv2D)          (None, 13, 13, 64)        36928     \n",
            "                                                                 \n",
            " activation_15 (Activation)  (None, 13, 13, 64)        0         \n",
            "                                                                 \n",
            " max_pooling2d_5 (MaxPoolin  (None, 6, 6, 64)          0         \n",
            " g2D)                                                            \n",
            "                                                                 \n",
            " dropout_8 (Dropout)         (None, 6, 6, 64)          0         \n",
            "                                                                 \n",
            " flatten_2 (Flatten)         (None, 2304)              0         \n",
            "                                                                 \n",
            " dense_4 (Dense)             (None, 512)               1180160   \n",
            "                                                                 \n",
            " activation_16 (Activation)  (None, 512)               0         \n",
            "                                                                 \n",
            " dropout_9 (Dropout)         (None, 512)               0         \n",
            "                                                                 \n",
            " dense_5 (Dense)             (None, 10)                5130      \n",
            "                                                                 \n",
            " activation_17 (Activation)  (None, 10)                0         \n",
            "                                                                 \n",
            "=================================================================\n",
            "Total params: 1250858 (4.77 MB)\n",
            "Trainable params: 1250858 (4.77 MB)\n",
            "Non-trainable params: 0 (0.00 Byte)\n",
            "_________________________________________________________________\n"
          ]
        }
      ]
    },
    {
      "cell_type": "code",
      "source": [
        "if not data_augmentation:\n",
        "    print('Не используется data augmentation')\n",
        "    model.fit(X_train, y_train,\n",
        "              batch_size=batch_size,\n",
        "              epochs=epochs,\n",
        "              validation_data=(X_test, y_test),\n",
        "              shuffle=True)\n",
        "else:\n",
        "    print('Использование data augmentation')\n",
        "    # Препроцессинг и data augmentation в реальном времени:\n",
        "    datagen = ImageDataGenerator(\n",
        "        featurewise_center=False,\n",
        "        samplewise_center=False,\n",
        "        featurewise_std_normalization=False,\n",
        "        samplewise_std_normalization=False,\n",
        "        zca_whitening=False,\n",
        "        zca_epsilon=1e-05,\n",
        "        rotation_range=5,\n",
        "        width_shift_range=0.15,\n",
        "        height_shift_range=0.15,\n",
        "        shear_range=0.,\n",
        "        zoom_range=0.15,\n",
        "        channel_shift_range=0.,\n",
        "        fill_mode='nearest',\n",
        "        cval=0.,\n",
        "        horizontal_flip=True,\n",
        "        vertical_flip=False,\n",
        "        rescale=None,\n",
        "        preprocessing_function=None,\n",
        "        data_format=None,\n",
        "        validation_split=0.0)\n",
        "\n",
        "\n",
        "    train_gen = datagen.flow(X_train,\n",
        "                             y_train,\n",
        "                             batch_size=batch_size)\n",
        "\n",
        "    # запуск data augmentation через fit\n",
        "    model.fit(train_gen,\n",
        "              epochs=epochs,\n",
        "              validation_data=(X_test, y_test))"
      ],
      "metadata": {
        "colab": {
          "base_uri": "https://localhost:8080/"
        },
        "id": "EZop-jVMonZH",
        "outputId": "8a0051f5-dd99-4d54-ed22-6b3314f6ec5b"
      },
      "execution_count": 12,
      "outputs": [
        {
          "output_type": "stream",
          "name": "stdout",
          "text": [
            "Использование data augmentation\n",
            "Epoch 1/5\n",
            "98/98 [==============================] - 29s 281ms/step - loss: 2.3063 - accuracy: 0.1053 - val_loss: 2.2966 - val_accuracy: 0.1152\n",
            "Epoch 2/5\n",
            "98/98 [==============================] - 29s 293ms/step - loss: 2.2955 - accuracy: 0.1172 - val_loss: 2.2903 - val_accuracy: 0.1338\n",
            "Epoch 3/5\n",
            "98/98 [==============================] - 27s 274ms/step - loss: 2.2879 - accuracy: 0.1248 - val_loss: 2.2778 - val_accuracy: 0.1635\n",
            "Epoch 4/5\n",
            "98/98 [==============================] - 27s 274ms/step - loss: 2.2714 - accuracy: 0.1419 - val_loss: 2.2531 - val_accuracy: 0.2171\n",
            "Epoch 5/5\n",
            "98/98 [==============================] - 26s 269ms/step - loss: 2.2365 - accuracy: 0.1680 - val_loss: 2.1872 - val_accuracy: 0.2300\n"
          ]
        }
      ]
    },
    {
      "cell_type": "code",
      "source": [
        "# проверка работы обученной модели\n",
        "scores = model.evaluate(X_test, y_test, verbose=1)\n",
        "print('Test loss:', scores[0])\n",
        "print('Test accuracy:', scores[1])"
      ],
      "metadata": {
        "colab": {
          "base_uri": "https://localhost:8080/"
        },
        "id": "sJfyYn-Coqmv",
        "outputId": "215dac00-3087-4193-f7cc-7f02046987b1"
      },
      "execution_count": 13,
      "outputs": [
        {
          "output_type": "stream",
          "name": "stdout",
          "text": [
            "313/313 [==============================] - 1s 5ms/step - loss: 2.1872 - accuracy: 0.2300\n",
            "Test loss: 2.187152147293091\n",
            "Test accuracy: 0.23000000417232513\n"
          ]
        }
      ]
    },
    {
      "cell_type": "markdown",
      "source": [
        "Точность распознавания образов cifar 10 сверточной нейронной сетью при изменении некоторых параметров data augmentation улучшело показатели на 4% и составило 0.2300."
      ],
      "metadata": {
        "id": "cX1FfWnBou8A"
      }
    },
    {
      "cell_type": "markdown",
      "source": [
        "Увеличиваю ширину сети (больше фильтров):"
      ],
      "metadata": {
        "id": "Dzqcoal5oyfB"
      }
    },
    {
      "cell_type": "code",
      "source": [
        "# конфигурирование слоев нейросети\n",
        "model = Sequential()\n",
        "\n",
        "# слои нейросети отвественные за свертку и max-pooling\n",
        "model.add(Conv2D(64, (3, 3), padding='same', input_shape=X_train.shape[1:]))\n",
        "model.add(Activation('relu'))\n",
        "model.add(Conv2D(64, (3, 3)))\n",
        "model.add(Activation('relu'))\n",
        "model.add(MaxPooling2D(pool_size=(2, 2)))\n",
        "model.add(Dropout(0.25))\n",
        "\n",
        "model.add(Conv2D(128, (3, 3), padding='same'))\n",
        "model.add(Activation('relu'))\n",
        "model.add(Conv2D(128, (3, 3)))\n",
        "model.add(Activation('relu'))\n",
        "model.add(MaxPooling2D(pool_size=(2, 2)))\n",
        "model.add(Dropout(0.25))\n",
        "\n",
        "# полносвязные слои нейронной сети\n",
        "model.add(Flatten())\n",
        "model.add(Dense(512))\n",
        "model.add(Activation('relu'))\n",
        "model.add(Dropout(0.5))\n",
        "model.add(Dense(num_classes))\n",
        "model.add(Activation('softmax'))\n",
        "\n",
        "model.summary()\n",
        "# компиляция модели\n",
        "model.compile(loss='categorical_crossentropy',\n",
        "              optimizer='SGD',\n",
        "              metrics=['accuracy'])"
      ],
      "metadata": {
        "colab": {
          "base_uri": "https://localhost:8080/"
        },
        "id": "Ly8qZTeEo28I",
        "outputId": "09270f94-50c9-4eb2-a9de-7277f5268523"
      },
      "execution_count": 14,
      "outputs": [
        {
          "output_type": "stream",
          "name": "stdout",
          "text": [
            "Model: \"sequential_4\"\n",
            "_________________________________________________________________\n",
            " Layer (type)                Output Shape              Param #   \n",
            "=================================================================\n",
            " conv2d_12 (Conv2D)          (None, 32, 32, 64)        1792      \n",
            "                                                                 \n",
            " activation_18 (Activation)  (None, 32, 32, 64)        0         \n",
            "                                                                 \n",
            " conv2d_13 (Conv2D)          (None, 30, 30, 64)        36928     \n",
            "                                                                 \n",
            " activation_19 (Activation)  (None, 30, 30, 64)        0         \n",
            "                                                                 \n",
            " max_pooling2d_6 (MaxPoolin  (None, 15, 15, 64)        0         \n",
            " g2D)                                                            \n",
            "                                                                 \n",
            " dropout_10 (Dropout)        (None, 15, 15, 64)        0         \n",
            "                                                                 \n",
            " conv2d_14 (Conv2D)          (None, 15, 15, 128)       73856     \n",
            "                                                                 \n",
            " activation_20 (Activation)  (None, 15, 15, 128)       0         \n",
            "                                                                 \n",
            " conv2d_15 (Conv2D)          (None, 13, 13, 128)       147584    \n",
            "                                                                 \n",
            " activation_21 (Activation)  (None, 13, 13, 128)       0         \n",
            "                                                                 \n",
            " max_pooling2d_7 (MaxPoolin  (None, 6, 6, 128)         0         \n",
            " g2D)                                                            \n",
            "                                                                 \n",
            " dropout_11 (Dropout)        (None, 6, 6, 128)         0         \n",
            "                                                                 \n",
            " flatten_3 (Flatten)         (None, 4608)              0         \n",
            "                                                                 \n",
            " dense_6 (Dense)             (None, 512)               2359808   \n",
            "                                                                 \n",
            " activation_22 (Activation)  (None, 512)               0         \n",
            "                                                                 \n",
            " dropout_12 (Dropout)        (None, 512)               0         \n",
            "                                                                 \n",
            " dense_7 (Dense)             (None, 10)                5130      \n",
            "                                                                 \n",
            " activation_23 (Activation)  (None, 10)                0         \n",
            "                                                                 \n",
            "=================================================================\n",
            "Total params: 2625098 (10.01 MB)\n",
            "Trainable params: 2625098 (10.01 MB)\n",
            "Non-trainable params: 0 (0.00 Byte)\n",
            "_________________________________________________________________\n"
          ]
        }
      ]
    },
    {
      "cell_type": "code",
      "source": [
        "if not data_augmentation:\n",
        "    print('Не используется data augmentation')\n",
        "    model.fit(X_train, y_train,\n",
        "              batch_size=batch_size,\n",
        "              epochs=epochs,\n",
        "              validation_data=(X_test, y_test),\n",
        "              shuffle=True)\n",
        "else:\n",
        "    print('Использование data augmentation')\n",
        "    # Препроцессинг и data augmentation в реальном времени:\n",
        "    datagen = ImageDataGenerator(\n",
        "        featurewise_center=False,\n",
        "        samplewise_center=False,\n",
        "        featurewise_std_normalization=False,\n",
        "        samplewise_std_normalization=False,\n",
        "        zca_whitening=False,\n",
        "        zca_epsilon=1e-06,\n",
        "        rotation_range=10,\n",
        "        width_shift_range=0.1,\n",
        "        height_shift_range=0.1,\n",
        "        shear_range=0.,\n",
        "        zoom_range=0.2,\n",
        "        channel_shift_range=0.,\n",
        "        fill_mode='nearest',\n",
        "        cval=0.,\n",
        "        horizontal_flip=True,\n",
        "        vertical_flip=False,\n",
        "        rescale=None,\n",
        "        preprocessing_function=None,\n",
        "        data_format=None,\n",
        "        validation_split=0.0)\n",
        "\n",
        "\n",
        "    train_gen = datagen.flow(X_train,\n",
        "                             y_train,\n",
        "                             batch_size=batch_size)\n",
        "\n",
        "    # запуск data augmentation через fit\n",
        "    model.fit(train_gen,\n",
        "              epochs=epochs,\n",
        "              validation_data=(X_test, y_test))"
      ],
      "metadata": {
        "colab": {
          "base_uri": "https://localhost:8080/"
        },
        "id": "pOWDEtBjo7uo",
        "outputId": "2ac4294a-f93e-4d88-81b1-a50fb899f0e1"
      },
      "execution_count": 15,
      "outputs": [
        {
          "output_type": "stream",
          "name": "stdout",
          "text": [
            "Использование data augmentation\n",
            "Epoch 1/5\n",
            "98/98 [==============================] - 37s 332ms/step - loss: 2.3020 - accuracy: 0.1044 - val_loss: 2.2978 - val_accuracy: 0.1293\n",
            "Epoch 2/5\n",
            "98/98 [==============================] - 27s 280ms/step - loss: 2.2965 - accuracy: 0.1148 - val_loss: 2.2911 - val_accuracy: 0.1405\n",
            "Epoch 3/5\n",
            "98/98 [==============================] - 28s 286ms/step - loss: 2.2849 - accuracy: 0.1265 - val_loss: 2.2737 - val_accuracy: 0.1510\n",
            "Epoch 4/5\n",
            "98/98 [==============================] - 28s 281ms/step - loss: 2.2621 - accuracy: 0.1441 - val_loss: 2.2329 - val_accuracy: 0.1964\n",
            "Epoch 5/5\n",
            "98/98 [==============================] - 28s 285ms/step - loss: 2.2046 - accuracy: 0.1819 - val_loss: 2.1337 - val_accuracy: 0.2450\n"
          ]
        }
      ]
    },
    {
      "cell_type": "code",
      "source": [
        "# проверка работы обученной модели\n",
        "scores = model.evaluate(X_test, y_test, verbose=1)\n",
        "print('Test loss:', scores[0])\n",
        "print('Test accuracy:', scores[1])\n"
      ],
      "metadata": {
        "colab": {
          "base_uri": "https://localhost:8080/"
        },
        "id": "AqhYL9Dgo_or",
        "outputId": "a6c0f6ca-963d-4ad3-e5bd-3eb7a1538cb7"
      },
      "execution_count": 16,
      "outputs": [
        {
          "output_type": "stream",
          "name": "stdout",
          "text": [
            "313/313 [==============================] - 2s 7ms/step - loss: 2.1337 - accuracy: 0.2450\n",
            "Test loss: 2.133721113204956\n",
            "Test accuracy: 0.24500000476837158\n"
          ]
        }
      ]
    },
    {
      "cell_type": "markdown",
      "source": [
        "Точность распознавания образов cifar 10 сверточной нейронной сетью при увеличении ширины сети (больше фильтров) немного повысилась и стала равна 0.2450"
      ],
      "metadata": {
        "id": "LDq3Z-lBpDD-"
      }
    },
    {
      "cell_type": "markdown",
      "source": [
        "Попробую увеличить глубину сети (больше слоев):"
      ],
      "metadata": {
        "id": "bjbUv-OGpGht"
      }
    },
    {
      "cell_type": "code",
      "source": [
        "# конфигурирование слоев нейросети\n",
        "model = Sequential()\n",
        "\n",
        "# слои нейросети отвественные за свертку и max-pooling\n",
        "model.add(Conv2D(32, (3, 3), padding='same', input_shape=X_train.shape[1:]))\n",
        "model.add(Activation('relu'))\n",
        "model.add(Conv2D(32, (3, 3)))\n",
        "model.add(Activation('relu'))\n",
        "model.add(MaxPooling2D(pool_size=(2, 2)))\n",
        "model.add(Dropout(0.25))\n",
        "\n",
        "model.add(Conv2D(64, (3, 3), padding='same'))\n",
        "model.add(Activation('relu'))\n",
        "model.add(Conv2D(64, (3, 3)))\n",
        "model.add(Activation('relu'))\n",
        "model.add(MaxPooling2D(pool_size=(2, 2)))\n",
        "model.add(Dropout(0.25))\n",
        "\n",
        "model.add(Conv2D(128, (3, 3), padding='same'))\n",
        "model.add(Activation('relu'))\n",
        "model.add(Conv2D(128, (3, 3)))\n",
        "model.add(Activation('relu'))\n",
        "model.add(MaxPooling2D(pool_size=(2, 2)))\n",
        "model.add(Dropout(0.25))\n",
        "\n",
        "# полносвязные слои нейронной сети\n",
        "model.add(Flatten())\n",
        "model.add(Dense(512))\n",
        "model.add(Activation('relu'))\n",
        "model.add(Dropout(0.5))\n",
        "model.add(Dense(num_classes))\n",
        "model.add(Activation('softmax'))\n",
        "\n",
        "model.summary()\n",
        "# компиляция модели\n",
        "model.compile(loss='categorical_crossentropy',\n",
        "              optimizer='SGD',\n",
        "              metrics=['accuracy'])"
      ],
      "metadata": {
        "colab": {
          "base_uri": "https://localhost:8080/"
        },
        "id": "WRyqa_rnpHiX",
        "outputId": "63a03c1a-b233-4418-a8f9-cde2b69f7854"
      },
      "execution_count": 17,
      "outputs": [
        {
          "output_type": "stream",
          "name": "stdout",
          "text": [
            "Model: \"sequential_5\"\n",
            "_________________________________________________________________\n",
            " Layer (type)                Output Shape              Param #   \n",
            "=================================================================\n",
            " conv2d_16 (Conv2D)          (None, 32, 32, 32)        896       \n",
            "                                                                 \n",
            " activation_24 (Activation)  (None, 32, 32, 32)        0         \n",
            "                                                                 \n",
            " conv2d_17 (Conv2D)          (None, 30, 30, 32)        9248      \n",
            "                                                                 \n",
            " activation_25 (Activation)  (None, 30, 30, 32)        0         \n",
            "                                                                 \n",
            " max_pooling2d_8 (MaxPoolin  (None, 15, 15, 32)        0         \n",
            " g2D)                                                            \n",
            "                                                                 \n",
            " dropout_13 (Dropout)        (None, 15, 15, 32)        0         \n",
            "                                                                 \n",
            " conv2d_18 (Conv2D)          (None, 15, 15, 64)        18496     \n",
            "                                                                 \n",
            " activation_26 (Activation)  (None, 15, 15, 64)        0         \n",
            "                                                                 \n",
            " conv2d_19 (Conv2D)          (None, 13, 13, 64)        36928     \n",
            "                                                                 \n",
            " activation_27 (Activation)  (None, 13, 13, 64)        0         \n",
            "                                                                 \n",
            " max_pooling2d_9 (MaxPoolin  (None, 6, 6, 64)          0         \n",
            " g2D)                                                            \n",
            "                                                                 \n",
            " dropout_14 (Dropout)        (None, 6, 6, 64)          0         \n",
            "                                                                 \n",
            " conv2d_20 (Conv2D)          (None, 6, 6, 128)         73856     \n",
            "                                                                 \n",
            " activation_28 (Activation)  (None, 6, 6, 128)         0         \n",
            "                                                                 \n",
            " conv2d_21 (Conv2D)          (None, 4, 4, 128)         147584    \n",
            "                                                                 \n",
            " activation_29 (Activation)  (None, 4, 4, 128)         0         \n",
            "                                                                 \n",
            " max_pooling2d_10 (MaxPooli  (None, 2, 2, 128)         0         \n",
            " ng2D)                                                           \n",
            "                                                                 \n",
            " dropout_15 (Dropout)        (None, 2, 2, 128)         0         \n",
            "                                                                 \n",
            " flatten_4 (Flatten)         (None, 512)               0         \n",
            "                                                                 \n",
            " dense_8 (Dense)             (None, 512)               262656    \n",
            "                                                                 \n",
            " activation_30 (Activation)  (None, 512)               0         \n",
            "                                                                 \n",
            " dropout_16 (Dropout)        (None, 512)               0         \n",
            "                                                                 \n",
            " dense_9 (Dense)             (None, 10)                5130      \n",
            "                                                                 \n",
            " activation_31 (Activation)  (None, 10)                0         \n",
            "                                                                 \n",
            "=================================================================\n",
            "Total params: 554794 (2.12 MB)\n",
            "Trainable params: 554794 (2.12 MB)\n",
            "Non-trainable params: 0 (0.00 Byte)\n",
            "_________________________________________________________________\n"
          ]
        }
      ]
    },
    {
      "cell_type": "code",
      "source": [
        "if not data_augmentation:\n",
        "    print('Не используется data augmentation')\n",
        "    model.fit(X_train, y_train,\n",
        "              batch_size=batch_size,\n",
        "              epochs=epochs,\n",
        "              validation_data=(X_test, y_test),\n",
        "              shuffle=True)\n",
        "else:\n",
        "    print('Использование data augmentation')\n",
        "    # Препроцессинг и data augmentation в реальном времени:\n",
        "    datagen = ImageDataGenerator(\n",
        "        featurewise_center=False,\n",
        "        samplewise_center=False,\n",
        "        featurewise_std_normalization=False,\n",
        "        samplewise_std_normalization=False,\n",
        "        zca_whitening=False,\n",
        "        zca_epsilon=1e-06,\n",
        "        rotation_range=10,\n",
        "        width_shift_range=0.1,\n",
        "        height_shift_range=0.1,\n",
        "        shear_range=0.,\n",
        "        zoom_range=0.2,\n",
        "        channel_shift_range=0.,\n",
        "        fill_mode='nearest',\n",
        "        cval=0.,\n",
        "        horizontal_flip=True,\n",
        "        vertical_flip=False,\n",
        "        rescale=None,\n",
        "        preprocessing_function=None,\n",
        "        data_format=None,\n",
        "        validation_split=0.0)\n",
        "\n",
        "\n",
        "    train_gen = datagen.flow(X_train,\n",
        "                             y_train,\n",
        "                             batch_size=batch_size)\n",
        "\n",
        "    # запуск data augmentation через fit\n",
        "    model.fit(train_gen,\n",
        "              epochs=epochs,\n",
        "              validation_data=(X_test, y_test))"
      ],
      "metadata": {
        "colab": {
          "base_uri": "https://localhost:8080/"
        },
        "id": "Vgqhl3DSpKca",
        "outputId": "8139e988-b281-4bff-a31f-1f579338f7be"
      },
      "execution_count": 18,
      "outputs": [
        {
          "output_type": "stream",
          "name": "stdout",
          "text": [
            "Использование data augmentation\n",
            "Epoch 1/5\n",
            "98/98 [==============================] - 35s 325ms/step - loss: 2.3035 - accuracy: 0.0988 - val_loss: 2.3023 - val_accuracy: 0.0918\n",
            "Epoch 2/5\n",
            "98/98 [==============================] - 29s 298ms/step - loss: 2.3024 - accuracy: 0.1018 - val_loss: 2.3015 - val_accuracy: 0.1447\n",
            "Epoch 3/5\n",
            "98/98 [==============================] - 27s 276ms/step - loss: 2.3018 - accuracy: 0.1071 - val_loss: 2.3006 - val_accuracy: 0.1862\n",
            "Epoch 4/5\n",
            "98/98 [==============================] - 27s 276ms/step - loss: 2.3006 - accuracy: 0.1162 - val_loss: 2.2994 - val_accuracy: 0.1770\n",
            "Epoch 5/5\n",
            "98/98 [==============================] - 27s 274ms/step - loss: 2.2992 - accuracy: 0.1266 - val_loss: 2.2975 - val_accuracy: 0.1766\n"
          ]
        }
      ]
    },
    {
      "cell_type": "code",
      "source": [
        "# проверка работы обученной модели\n",
        "scores = model.evaluate(X_test, y_test, verbose=1)\n",
        "print('Test loss:', scores[0])\n",
        "print('Test accuracy:', scores[1])"
      ],
      "metadata": {
        "colab": {
          "base_uri": "https://localhost:8080/"
        },
        "id": "-0iYPV1upVRQ",
        "outputId": "2df675a7-8a2a-4bb8-9787-24a66d3d814a"
      },
      "execution_count": 19,
      "outputs": [
        {
          "output_type": "stream",
          "name": "stdout",
          "text": [
            "313/313 [==============================] - 1s 4ms/step - loss: 2.2975 - accuracy: 0.1766\n",
            "Test loss: 2.29750657081604\n",
            "Test accuracy: 0.17659999430179596\n"
          ]
        }
      ]
    },
    {
      "cell_type": "markdown",
      "source": [
        "Точность распознавания образов cifar 10 сверточной нейронной сетью при увеличении глубины сети (больше слоев) была снижена и стала равна 0.1765"
      ],
      "metadata": {
        "id": "NvgMvJhWpX1Q"
      }
    },
    {
      "cell_type": "markdown",
      "source": [
        "Отключаю data augmentation:"
      ],
      "metadata": {
        "id": "V1bcUpZGpa3H"
      }
    },
    {
      "cell_type": "code",
      "source": [
        "# конфигурирование слоев нейросети\n",
        "model = Sequential()\n",
        "\n",
        "# слои нейросети отвественные за свертку и max-pooling\n",
        "model.add(Conv2D(32, (3, 3), padding='same', input_shape=X_train.shape[1:]))\n",
        "model.add(Activation('relu'))\n",
        "model.add(Conv2D(32, (3, 3)))\n",
        "model.add(Activation('relu'))\n",
        "model.add(MaxPooling2D(pool_size=(2, 2)))\n",
        "model.add(Dropout(0.25))\n",
        "\n",
        "model.add(Conv2D(64, (3, 3), padding='same'))\n",
        "model.add(Activation('relu'))\n",
        "model.add(Conv2D(64, (3, 3)))\n",
        "model.add(Activation('relu'))\n",
        "model.add(MaxPooling2D(pool_size=(2, 2)))\n",
        "model.add(Dropout(0.25))\n",
        "\n",
        "# полносвязные слои нейронной сети\n",
        "model.add(Flatten())\n",
        "model.add(Dense(512))\n",
        "model.add(Activation('relu'))\n",
        "model.add(Dropout(0.5))\n",
        "model.add(Dense(num_classes))\n",
        "model.add(Activation('softmax'))\n",
        "\n",
        "model.summary()\n",
        "# компиляция модели\n",
        "model.compile(loss='categorical_crossentropy',\n",
        "              optimizer='SGD',\n",
        "              metrics=['accuracy'])"
      ],
      "metadata": {
        "colab": {
          "base_uri": "https://localhost:8080/"
        },
        "id": "DuKb49vxpeL3",
        "outputId": "43801059-8b3b-42b9-c95a-fb3deed0c130"
      },
      "execution_count": 20,
      "outputs": [
        {
          "output_type": "stream",
          "name": "stdout",
          "text": [
            "Model: \"sequential_6\"\n",
            "_________________________________________________________________\n",
            " Layer (type)                Output Shape              Param #   \n",
            "=================================================================\n",
            " conv2d_22 (Conv2D)          (None, 32, 32, 32)        896       \n",
            "                                                                 \n",
            " activation_32 (Activation)  (None, 32, 32, 32)        0         \n",
            "                                                                 \n",
            " conv2d_23 (Conv2D)          (None, 30, 30, 32)        9248      \n",
            "                                                                 \n",
            " activation_33 (Activation)  (None, 30, 30, 32)        0         \n",
            "                                                                 \n",
            " max_pooling2d_11 (MaxPooli  (None, 15, 15, 32)        0         \n",
            " ng2D)                                                           \n",
            "                                                                 \n",
            " dropout_17 (Dropout)        (None, 15, 15, 32)        0         \n",
            "                                                                 \n",
            " conv2d_24 (Conv2D)          (None, 15, 15, 64)        18496     \n",
            "                                                                 \n",
            " activation_34 (Activation)  (None, 15, 15, 64)        0         \n",
            "                                                                 \n",
            " conv2d_25 (Conv2D)          (None, 13, 13, 64)        36928     \n",
            "                                                                 \n",
            " activation_35 (Activation)  (None, 13, 13, 64)        0         \n",
            "                                                                 \n",
            " max_pooling2d_12 (MaxPooli  (None, 6, 6, 64)          0         \n",
            " ng2D)                                                           \n",
            "                                                                 \n",
            " dropout_18 (Dropout)        (None, 6, 6, 64)          0         \n",
            "                                                                 \n",
            " flatten_5 (Flatten)         (None, 2304)              0         \n",
            "                                                                 \n",
            " dense_10 (Dense)            (None, 512)               1180160   \n",
            "                                                                 \n",
            " activation_36 (Activation)  (None, 512)               0         \n",
            "                                                                 \n",
            " dropout_19 (Dropout)        (None, 512)               0         \n",
            "                                                                 \n",
            " dense_11 (Dense)            (None, 10)                5130      \n",
            "                                                                 \n",
            " activation_37 (Activation)  (None, 10)                0         \n",
            "                                                                 \n",
            "=================================================================\n",
            "Total params: 1250858 (4.77 MB)\n",
            "Trainable params: 1250858 (4.77 MB)\n",
            "Non-trainable params: 0 (0.00 Byte)\n",
            "_________________________________________________________________\n"
          ]
        }
      ]
    },
    {
      "cell_type": "code",
      "source": [
        "data_augmentation = False"
      ],
      "metadata": {
        "id": "JpEkT1GYph2Y"
      },
      "execution_count": 21,
      "outputs": []
    },
    {
      "cell_type": "code",
      "source": [
        "if not data_augmentation:\n",
        "    print('Не используется data augmentation')\n",
        "    model.fit(X_train, y_train,\n",
        "              batch_size=batch_size,\n",
        "              epochs=epochs,\n",
        "              validation_data=(X_test, y_test),\n",
        "              shuffle=True)\n",
        "else:\n",
        "    print('Использование data augmentation')\n",
        "    # Препроцессинг и data augmentation в реальном времени:\n",
        "    datagen = ImageDataGenerator(\n",
        "        featurewise_center=False,\n",
        "        samplewise_center=False,\n",
        "        featurewise_std_normalization=False,\n",
        "        samplewise_std_normalization=False,\n",
        "        zca_whitening=False,\n",
        "        zca_epsilon=1e-06,\n",
        "        rotation_range=10,\n",
        "        width_shift_range=0.1,\n",
        "        height_shift_range=0.1,\n",
        "        shear_range=0.,\n",
        "        zoom_range=0.2,\n",
        "        channel_shift_range=0.,\n",
        "        fill_mode='nearest',\n",
        "        cval=0.,\n",
        "        horizontal_flip=True,\n",
        "        vertical_flip=False,\n",
        "        rescale=None,\n",
        "        preprocessing_function=None,\n",
        "        data_format=None,\n",
        "        validation_split=0.0)\n",
        "\n",
        "\n",
        "    train_gen = datagen.flow(X_train,\n",
        "                             y_train,\n",
        "                             batch_size=batch_size)\n",
        "\n",
        "    # запуск data augmentation через fit\n",
        "    model.fit(train_gen,\n",
        "              epochs=epochs,\n",
        "              validation_data=(X_test, y_test))\n"
      ],
      "metadata": {
        "colab": {
          "base_uri": "https://localhost:8080/"
        },
        "id": "_hBIR1uipi0Q",
        "outputId": "81320cb9-931f-4568-b117-29a680fd46c2"
      },
      "execution_count": 22,
      "outputs": [
        {
          "output_type": "stream",
          "name": "stdout",
          "text": [
            "Не используется data augmentation\n",
            "Epoch 1/5\n",
            "98/98 [==============================] - 7s 61ms/step - loss: 2.3045 - accuracy: 0.1034 - val_loss: 2.2992 - val_accuracy: 0.1333\n",
            "Epoch 2/5\n",
            "98/98 [==============================] - 4s 40ms/step - loss: 2.2980 - accuracy: 0.1157 - val_loss: 2.2940 - val_accuracy: 0.1665\n",
            "Epoch 3/5\n",
            "98/98 [==============================] - 4s 42ms/step - loss: 2.2911 - accuracy: 0.1227 - val_loss: 2.2832 - val_accuracy: 0.1614\n",
            "Epoch 4/5\n",
            "98/98 [==============================] - 4s 44ms/step - loss: 2.2751 - accuracy: 0.1381 - val_loss: 2.2564 - val_accuracy: 0.1897\n",
            "Epoch 5/5\n",
            "98/98 [==============================] - 4s 43ms/step - loss: 2.2296 - accuracy: 0.1707 - val_loss: 2.1737 - val_accuracy: 0.2508\n"
          ]
        }
      ]
    },
    {
      "cell_type": "code",
      "source": [
        "# проверка работы обученной модели\n",
        "scores = model.evaluate(X_test, y_test, verbose=1)\n",
        "print('Test loss:', scores[0])\n",
        "print('Test accuracy:', scores[1])"
      ],
      "metadata": {
        "colab": {
          "base_uri": "https://localhost:8080/"
        },
        "id": "RLbRAJgrpoSH",
        "outputId": "e46c7ed8-1192-45d5-9bac-89f27b941ca7"
      },
      "execution_count": 23,
      "outputs": [
        {
          "output_type": "stream",
          "name": "stdout",
          "text": [
            "313/313 [==============================] - 1s 4ms/step - loss: 2.1737 - accuracy: 0.2508\n",
            "Test loss: 2.1737053394317627\n",
            "Test accuracy: 0.2508000135421753\n"
          ]
        }
      ]
    },
    {
      "cell_type": "markdown",
      "source": [
        "Точность распознавания образов cifar 10 сверточной нейронной сетью при отключении data augmentation ровняется 0.2508."
      ],
      "metadata": {
        "id": "_h5wnw2lprpo"
      }
    },
    {
      "cell_type": "markdown",
      "source": [
        "## Вывод: </br>\n",
        "Существенно повысить точность распознования образов cifar 10 сверточной нейронной сетью не удалось показатели точности при разных подходах в диапозоне 0.1765 - 0.2715. Самые худшие показатели были при увеличении глубины сети (больше слоев) = 0.1765, самые лучшие были при изменении Dropout в каждом слое, удалось достичь показатель 0.2715. </br>\n",
        "Для адаптации полученной нейронной сети для работы с различными датасетами, такими как MNIST, CIFAR100 и IMAGENET, требуется внести следующие изменения: </br>\n",
        "\n",
        "### MNIST: </br>\n",
        "Уменьшить глубину сети, так как изображения в MNIST меньше и менее сложны.\n",
        "Уменьшить число выходных нейронов в последнем слое до 10, соответствующих 10 классам в MNIST.\n",
        "Изменить размер входного слоя сети на (28, 28, 1), чтобы соответствовать размеру изображений MNIST.\n",
        "Изменить активационные функции и количество фильтров в сверточных слоях, чтобы лучше соответствовать характеристикам датасета. </br>\n",
        "\n",
        "### CIFAR100: </br>\n",
        "Изменить число выходных нейронов в последнем слое до 100, чтобы соответствовать количеству классов в CIFAR100.\n",
        "Возможно, увеличить глубину сети или количество фильтров в сверточных слоях для более сложных признаков. </br>\n",
        "\n",
        "### IMAGENET: </br>\n",
        "Использовать более глубокие и сложные архитектуры сетей, такие как ResNet, Inception или EfficientNet, из-за огромного размера датасета и сложности изображений.\n",
        "Использовать предобученные модели для эффективного обучения.\n",
        "Установить соответствующий размер входного слоя сети, обычно (224, 224, 3) для изображений IMAGENET.\n",
        "Применить более сложные методы аугментации данных, так как датасет IMAGENET гораздо больше по размеру и разнообразию, чем CIFAR-10."
      ],
      "metadata": {
        "id": "HOEbDd0f-vaa"
      }
    }
  ]
}