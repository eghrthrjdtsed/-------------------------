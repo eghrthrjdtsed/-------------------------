{
  "nbformat": 4,
  "nbformat_minor": 0,
  "metadata": {
    "colab": {
      "provenance": [],
      "authorship_tag": "ABX9TyMbUsTZEMyNlh3ccu9f84lU",
      "include_colab_link": true
    },
    "kernelspec": {
      "name": "python3",
      "display_name": "Python 3"
    },
    "language_info": {
      "name": "python"
    }
  },
  "cells": [
    {
      "cell_type": "markdown",
      "metadata": {
        "id": "view-in-github",
        "colab_type": "text"
      },
      "source": [
        "<a href=\"https://colab.research.google.com/github/eghrthrjdtsed/-------------------------/blob/master/Home_work_5.ipynb\" target=\"_parent\"><img src=\"https://colab.research.google.com/assets/colab-badge.svg\" alt=\"Open In Colab\"/></a>"
      ]
    },
    {
      "cell_type": "code",
      "execution_count": 592,
      "metadata": {
        "id": "wC8PpbjTdBP3"
      },
      "outputs": [],
      "source": [
        "import re"
      ]
    },
    {
      "cell_type": "code",
      "source": [
        "with open('train_data.txt', 'r', encoding='utf-8') as f:\n",
        "    text = f.read()\n",
        "    text = text.replace('\\ufeff', '') # убираем первый невидимый символ\n",
        "    text = re.sub(r'[^А-я ]', '', text) # убираем все недопустимые символы"
      ],
      "metadata": {
        "id": "lDXMvGoqhoir"
      },
      "execution_count": 593,
      "outputs": []
    },
    {
      "cell_type": "code",
      "source": [
        "text"
      ],
      "metadata": {
        "colab": {
          "base_uri": "https://localhost:8080/",
          "height": 53
        },
        "id": "pjHXacrdiWzm",
        "outputId": "1c174fb8-cb47-48d6-b7e2-d1db06802857"
      },
      "execution_count": 594,
      "outputs": [
        {
          "output_type": "execute_result",
          "data": {
            "text/plain": [
              "'Вы  лучший ответ на проблемы которые возникли в понедельникДумайте позитивно и верьте в свою способность достигать отличных результатовЕсли вы смогли в понедельник подняться с постели значит вы супер герой'"
            ],
            "application/vnd.google.colaboratory.intrinsic+json": {
              "type": "string"
            }
          },
          "metadata": {},
          "execution_count": 594
        }
      ]
    },
    {
      "cell_type": "code",
      "source": [
        "len(text)"
      ],
      "metadata": {
        "colab": {
          "base_uri": "https://localhost:8080/"
        },
        "id": "_J2b4nssifm6",
        "outputId": "0e7cabf9-2863-4b24-eb11-e0a821742b38"
      },
      "execution_count": 595,
      "outputs": [
        {
          "output_type": "execute_result",
          "data": {
            "text/plain": [
              "205"
            ]
          },
          "metadata": {},
          "execution_count": 595
        }
      ]
    },
    {
      "cell_type": "code",
      "source": [
        "num_characters = 34 #33 буквы + пробел"
      ],
      "metadata": {
        "id": "x3rLganvimNc"
      },
      "execution_count": 596,
      "outputs": []
    },
    {
      "cell_type": "code",
      "source": [
        "import keras\n",
        "from keras.preprocessing.text import Tokenizer"
      ],
      "metadata": {
        "id": "gFnG4VGWi2ab"
      },
      "execution_count": 597,
      "outputs": []
    },
    {
      "cell_type": "code",
      "source": [
        "tokenizer = Tokenizer(num_words=num_characters, char_level=True)"
      ],
      "metadata": {
        "id": "TPtskSHMi61X"
      },
      "execution_count": 598,
      "outputs": []
    },
    {
      "cell_type": "code",
      "source": [
        "tokenizer.fit_on_texts(text)"
      ],
      "metadata": {
        "id": "CQtqVKoOi9zJ"
      },
      "execution_count": 599,
      "outputs": []
    },
    {
      "cell_type": "code",
      "source": [
        "print(tokenizer.word_index)"
      ],
      "metadata": {
        "colab": {
          "base_uri": "https://localhost:8080/"
        },
        "id": "eLo6qJBYjAjq",
        "outputId": "384472d2-e700-43e7-8caf-5bed1a9de4a1"
      },
      "execution_count": 600,
      "outputs": [
        {
          "output_type": "stream",
          "name": "stdout",
          "text": [
            "{' ': 1, 'о': 2, 'т': 3, 'е': 4, 'и': 5, 'в': 6, 'н': 7, 'с': 8, 'л': 9, 'п': 10, 'ь': 11, 'ы': 12, 'р': 13, 'а': 14, 'д': 15, 'у': 16, 'к': 17, 'з': 18, 'ч': 19, 'й': 20, 'м': 21, 'г': 22, 'б': 23, 'я': 24, 'ш': 25, 'ю': 26, 'х': 27}\n"
          ]
        }
      ]
    },
    {
      "cell_type": "code",
      "source": [
        "inp_chars = 6 #\n",
        "data = tokenizer.texts_to_matrix(text)"
      ],
      "metadata": {
        "id": "6XJPRLv9jES_"
      },
      "execution_count": 601,
      "outputs": []
    },
    {
      "cell_type": "code",
      "source": [
        "data[1]"
      ],
      "metadata": {
        "colab": {
          "base_uri": "https://localhost:8080/"
        },
        "id": "rDWVZpnXjG0z",
        "outputId": "e0db7ea8-231e-48a3-9e04-248b84e38059"
      },
      "execution_count": 602,
      "outputs": [
        {
          "output_type": "execute_result",
          "data": {
            "text/plain": [
              "array([0., 0., 0., 0., 0., 0., 0., 0., 0., 0., 0., 0., 1., 0., 0., 0., 0.,\n",
              "       0., 0., 0., 0., 0., 0., 0., 0., 0., 0., 0., 0., 0., 0., 0., 0., 0.])"
            ]
          },
          "metadata": {},
          "execution_count": 602
        }
      ]
    },
    {
      "cell_type": "code",
      "source": [
        "n = data.shape[0]-inp_chars\n",
        "n  #размер обучающего множества"
      ],
      "metadata": {
        "colab": {
          "base_uri": "https://localhost:8080/"
        },
        "id": "qrJ2cT-RjKA0",
        "outputId": "fd92b29f-989d-48b1-e8b5-c90f12192b4c"
      },
      "execution_count": 603,
      "outputs": [
        {
          "output_type": "execute_result",
          "data": {
            "text/plain": [
              "199"
            ]
          },
          "metadata": {},
          "execution_count": 603
        }
      ]
    },
    {
      "cell_type": "code",
      "source": [
        "import numpy as np"
      ],
      "metadata": {
        "id": "H3Fd_wIdjMh6"
      },
      "execution_count": 604,
      "outputs": []
    },
    {
      "cell_type": "code",
      "source": [
        "X = np.array([data[i:i+inp_chars, :] for i in range(n)])\n",
        "Y = data[inp_chars:] #предсказание следующего символа"
      ],
      "metadata": {
        "id": "zSimljW9jNUC"
      },
      "execution_count": 605,
      "outputs": []
    },
    {
      "cell_type": "code",
      "source": [
        "len(X)"
      ],
      "metadata": {
        "colab": {
          "base_uri": "https://localhost:8080/"
        },
        "id": "mCEbRdXkjP4X",
        "outputId": "80086d0a-ba08-4930-b385-66ce16618f2b"
      },
      "execution_count": 606,
      "outputs": [
        {
          "output_type": "execute_result",
          "data": {
            "text/plain": [
              "199"
            ]
          },
          "metadata": {},
          "execution_count": 606
        }
      ]
    },
    {
      "cell_type": "code",
      "source": [
        "X[0]"
      ],
      "metadata": {
        "colab": {
          "base_uri": "https://localhost:8080/"
        },
        "id": "y3b2arYQjTA8",
        "outputId": "bba9242d-9045-479c-c0e8-776f9ed155a0"
      },
      "execution_count": 607,
      "outputs": [
        {
          "output_type": "execute_result",
          "data": {
            "text/plain": [
              "array([[0., 0., 0., 0., 0., 0., 1., 0., 0., 0., 0., 0., 0., 0., 0., 0.,\n",
              "        0., 0., 0., 0., 0., 0., 0., 0., 0., 0., 0., 0., 0., 0., 0., 0.,\n",
              "        0., 0.],\n",
              "       [0., 0., 0., 0., 0., 0., 0., 0., 0., 0., 0., 0., 1., 0., 0., 0.,\n",
              "        0., 0., 0., 0., 0., 0., 0., 0., 0., 0., 0., 0., 0., 0., 0., 0.,\n",
              "        0., 0.],\n",
              "       [0., 1., 0., 0., 0., 0., 0., 0., 0., 0., 0., 0., 0., 0., 0., 0.,\n",
              "        0., 0., 0., 0., 0., 0., 0., 0., 0., 0., 0., 0., 0., 0., 0., 0.,\n",
              "        0., 0.],\n",
              "       [0., 1., 0., 0., 0., 0., 0., 0., 0., 0., 0., 0., 0., 0., 0., 0.,\n",
              "        0., 0., 0., 0., 0., 0., 0., 0., 0., 0., 0., 0., 0., 0., 0., 0.,\n",
              "        0., 0.],\n",
              "       [0., 0., 0., 0., 0., 0., 0., 0., 0., 1., 0., 0., 0., 0., 0., 0.,\n",
              "        0., 0., 0., 0., 0., 0., 0., 0., 0., 0., 0., 0., 0., 0., 0., 0.,\n",
              "        0., 0.],\n",
              "       [0., 0., 0., 0., 0., 0., 0., 0., 0., 0., 0., 0., 0., 0., 0., 0.,\n",
              "        1., 0., 0., 0., 0., 0., 0., 0., 0., 0., 0., 0., 0., 0., 0., 0.,\n",
              "        0., 0.]])"
            ]
          },
          "metadata": {},
          "execution_count": 607
        }
      ]
    },
    {
      "cell_type": "code",
      "source": [
        "Y[0]"
      ],
      "metadata": {
        "colab": {
          "base_uri": "https://localhost:8080/"
        },
        "id": "HpJ0pT9xjVdz",
        "outputId": "53beca9c-9afb-4b82-8568-44f47a80d5d1"
      },
      "execution_count": 608,
      "outputs": [
        {
          "output_type": "execute_result",
          "data": {
            "text/plain": [
              "array([0., 0., 0., 0., 0., 0., 0., 0., 0., 0., 0., 0., 0., 0., 0., 0., 0.,\n",
              "       0., 0., 1., 0., 0., 0., 0., 0., 0., 0., 0., 0., 0., 0., 0., 0., 0.])"
            ]
          },
          "metadata": {},
          "execution_count": 608
        }
      ]
    },
    {
      "cell_type": "code",
      "source": [
        "from keras.layers import *\n",
        "from keras.models import Sequential"
      ],
      "metadata": {
        "id": "2tCMnTsfjYCJ"
      },
      "execution_count": 609,
      "outputs": []
    },
    {
      "cell_type": "code",
      "source": [
        "model = Sequential()\n",
        "model.add(Input((inp_chars, num_characters)))\n",
        "model.add(SimpleRNN(500, activation='tanh'))\n",
        "model.add(Dense(num_characters, activation='softmax'))\n",
        "model.summary()"
      ],
      "metadata": {
        "colab": {
          "base_uri": "https://localhost:8080/"
        },
        "id": "QBlU3OFwjaLi",
        "outputId": "aa7f53bc-912f-4509-d26e-aa8063741146"
      },
      "execution_count": 610,
      "outputs": [
        {
          "output_type": "stream",
          "name": "stdout",
          "text": [
            "Model: \"sequential_34\"\n",
            "_________________________________________________________________\n",
            " Layer (type)                Output Shape              Param #   \n",
            "=================================================================\n",
            " simple_rnn_34 (SimpleRNN)   (None, 500)               267500    \n",
            "                                                                 \n",
            " dense_34 (Dense)            (None, 34)                17034     \n",
            "                                                                 \n",
            "=================================================================\n",
            "Total params: 284534 (1.09 MB)\n",
            "Trainable params: 284534 (1.09 MB)\n",
            "Non-trainable params: 0 (0.00 Byte)\n",
            "_________________________________________________________________\n"
          ]
        }
      ]
    },
    {
      "cell_type": "code",
      "source": [
        "from keras.layers import SimpleRNN\n"
      ],
      "metadata": {
        "id": "W33y6UhJQF0p"
      },
      "execution_count": 611,
      "outputs": []
    },
    {
      "cell_type": "code",
      "source": [
        "model.compile(loss='categorical_crossentropy', metrics=['accuracy'], optimizer='adam')\n",
        "history = model.fit(X, Y, batch_size=32, epochs=100)"
      ],
      "metadata": {
        "colab": {
          "base_uri": "https://localhost:8080/"
        },
        "id": "BzftvQP-jfAg",
        "outputId": "7b10ceab-7741-4572-e4b8-87d99735daaf"
      },
      "execution_count": 612,
      "outputs": [
        {
          "output_type": "stream",
          "name": "stdout",
          "text": [
            "Epoch 1/100\n",
            "7/7 [==============================] - 2s 29ms/step - loss: 3.4217 - accuracy: 0.0503\n",
            "Epoch 2/100\n",
            "7/7 [==============================] - 0s 17ms/step - loss: 2.4162 - accuracy: 0.2864\n",
            "Epoch 3/100\n",
            "7/7 [==============================] - 0s 19ms/step - loss: 1.8751 - accuracy: 0.4874\n",
            "Epoch 4/100\n",
            "7/7 [==============================] - 0s 18ms/step - loss: 1.5213 - accuracy: 0.5276\n",
            "Epoch 5/100\n",
            "7/7 [==============================] - 0s 17ms/step - loss: 1.1994 - accuracy: 0.6432\n",
            "Epoch 6/100\n",
            "7/7 [==============================] - 0s 16ms/step - loss: 1.0440 - accuracy: 0.6884\n",
            "Epoch 7/100\n",
            "7/7 [==============================] - 0s 18ms/step - loss: 0.8972 - accuracy: 0.7387\n",
            "Epoch 8/100\n",
            "7/7 [==============================] - 0s 17ms/step - loss: 0.8129 - accuracy: 0.7739\n",
            "Epoch 9/100\n",
            "7/7 [==============================] - 0s 17ms/step - loss: 0.7296 - accuracy: 0.7789\n",
            "Epoch 10/100\n",
            "7/7 [==============================] - 0s 18ms/step - loss: 0.6101 - accuracy: 0.8492\n",
            "Epoch 11/100\n",
            "7/7 [==============================] - 0s 18ms/step - loss: 0.5610 - accuracy: 0.8693\n",
            "Epoch 12/100\n",
            "7/7 [==============================] - 0s 16ms/step - loss: 0.4961 - accuracy: 0.8794\n",
            "Epoch 13/100\n",
            "7/7 [==============================] - 0s 16ms/step - loss: 0.4528 - accuracy: 0.9095\n",
            "Epoch 14/100\n",
            "7/7 [==============================] - 0s 16ms/step - loss: 0.4058 - accuracy: 0.9246\n",
            "Epoch 15/100\n",
            "7/7 [==============================] - 0s 16ms/step - loss: 0.3924 - accuracy: 0.9045\n",
            "Epoch 16/100\n",
            "7/7 [==============================] - 0s 16ms/step - loss: 0.3124 - accuracy: 0.9497\n",
            "Epoch 17/100\n",
            "7/7 [==============================] - 0s 18ms/step - loss: 0.2550 - accuracy: 0.9648\n",
            "Epoch 18/100\n",
            "7/7 [==============================] - 0s 16ms/step - loss: 0.2625 - accuracy: 0.9447\n",
            "Epoch 19/100\n",
            "7/7 [==============================] - 0s 18ms/step - loss: 0.3041 - accuracy: 0.9497\n",
            "Epoch 20/100\n",
            "7/7 [==============================] - 0s 16ms/step - loss: 0.2297 - accuracy: 0.9397\n",
            "Epoch 21/100\n",
            "7/7 [==============================] - 0s 16ms/step - loss: 0.3883 - accuracy: 0.8794\n",
            "Epoch 22/100\n",
            "7/7 [==============================] - 0s 17ms/step - loss: 0.2711 - accuracy: 0.9397\n",
            "Epoch 23/100\n",
            "7/7 [==============================] - 0s 16ms/step - loss: 0.2540 - accuracy: 0.9447\n",
            "Epoch 24/100\n",
            "7/7 [==============================] - 0s 17ms/step - loss: 0.2028 - accuracy: 0.9598\n",
            "Epoch 25/100\n",
            "7/7 [==============================] - 0s 16ms/step - loss: 0.1364 - accuracy: 0.9899\n",
            "Epoch 26/100\n",
            "7/7 [==============================] - 0s 17ms/step - loss: 0.1719 - accuracy: 0.9648\n",
            "Epoch 27/100\n",
            "7/7 [==============================] - 0s 19ms/step - loss: 0.1501 - accuracy: 0.9799\n",
            "Epoch 28/100\n",
            "7/7 [==============================] - 0s 16ms/step - loss: 0.1107 - accuracy: 0.9899\n",
            "Epoch 29/100\n",
            "7/7 [==============================] - 0s 17ms/step - loss: 0.1188 - accuracy: 0.9749\n",
            "Epoch 30/100\n",
            "7/7 [==============================] - 0s 16ms/step - loss: 0.1492 - accuracy: 0.9698\n",
            "Epoch 31/100\n",
            "7/7 [==============================] - 0s 18ms/step - loss: 0.1642 - accuracy: 0.9799\n",
            "Epoch 32/100\n",
            "7/7 [==============================] - 0s 17ms/step - loss: 0.1602 - accuracy: 0.9749\n",
            "Epoch 33/100\n",
            "7/7 [==============================] - 0s 16ms/step - loss: 0.1167 - accuracy: 0.9799\n",
            "Epoch 34/100\n",
            "7/7 [==============================] - 0s 17ms/step - loss: 0.0998 - accuracy: 0.9799\n",
            "Epoch 35/100\n",
            "7/7 [==============================] - 0s 19ms/step - loss: 0.1002 - accuracy: 0.9749\n",
            "Epoch 36/100\n",
            "7/7 [==============================] - 0s 18ms/step - loss: 0.1023 - accuracy: 0.9698\n",
            "Epoch 37/100\n",
            "7/7 [==============================] - 0s 17ms/step - loss: 0.1891 - accuracy: 0.9497\n",
            "Epoch 38/100\n",
            "7/7 [==============================] - 0s 17ms/step - loss: 0.1406 - accuracy: 0.9648\n",
            "Epoch 39/100\n",
            "7/7 [==============================] - 0s 17ms/step - loss: 0.1220 - accuracy: 0.9698\n",
            "Epoch 40/100\n",
            "7/7 [==============================] - 0s 17ms/step - loss: 0.1018 - accuracy: 0.9849\n",
            "Epoch 41/100\n",
            "7/7 [==============================] - 0s 19ms/step - loss: 0.0729 - accuracy: 0.9799\n",
            "Epoch 42/100\n",
            "7/7 [==============================] - 0s 18ms/step - loss: 0.0700 - accuracy: 0.9899\n",
            "Epoch 43/100\n",
            "7/7 [==============================] - 0s 20ms/step - loss: 0.1018 - accuracy: 0.9749\n",
            "Epoch 44/100\n",
            "7/7 [==============================] - 0s 18ms/step - loss: 0.0641 - accuracy: 0.9849\n",
            "Epoch 45/100\n",
            "7/7 [==============================] - 0s 16ms/step - loss: 0.1119 - accuracy: 0.9799\n",
            "Epoch 46/100\n",
            "7/7 [==============================] - 0s 16ms/step - loss: 0.1199 - accuracy: 0.9799\n",
            "Epoch 47/100\n",
            "7/7 [==============================] - 0s 28ms/step - loss: 0.0875 - accuracy: 0.9799\n",
            "Epoch 48/100\n",
            "7/7 [==============================] - 0s 36ms/step - loss: 0.0434 - accuracy: 0.9950\n",
            "Epoch 49/100\n",
            "7/7 [==============================] - 0s 36ms/step - loss: 0.0786 - accuracy: 0.9899\n",
            "Epoch 50/100\n",
            "7/7 [==============================] - 0s 17ms/step - loss: 0.1074 - accuracy: 0.9899\n",
            "Epoch 51/100\n",
            "7/7 [==============================] - 0s 16ms/step - loss: 0.1500 - accuracy: 0.9799\n",
            "Epoch 52/100\n",
            "7/7 [==============================] - 0s 17ms/step - loss: 0.1044 - accuracy: 0.9950\n",
            "Epoch 53/100\n",
            "7/7 [==============================] - 0s 25ms/step - loss: 0.0876 - accuracy: 0.9849\n",
            "Epoch 54/100\n",
            "7/7 [==============================] - 0s 34ms/step - loss: 0.0654 - accuracy: 0.9899\n",
            "Epoch 55/100\n",
            "7/7 [==============================] - 0s 35ms/step - loss: 0.0443 - accuracy: 0.9950\n",
            "Epoch 56/100\n",
            "7/7 [==============================] - 0s 19ms/step - loss: 0.0405 - accuracy: 0.9849\n",
            "Epoch 57/100\n",
            "7/7 [==============================] - 0s 16ms/step - loss: 0.0356 - accuracy: 0.9950\n",
            "Epoch 58/100\n",
            "7/7 [==============================] - 0s 20ms/step - loss: 0.0305 - accuracy: 0.9950\n",
            "Epoch 59/100\n",
            "7/7 [==============================] - 0s 18ms/step - loss: 0.0344 - accuracy: 0.9950\n",
            "Epoch 60/100\n",
            "7/7 [==============================] - 0s 18ms/step - loss: 0.0501 - accuracy: 0.9899\n",
            "Epoch 61/100\n",
            "7/7 [==============================] - 0s 16ms/step - loss: 0.0551 - accuracy: 0.9849\n",
            "Epoch 62/100\n",
            "7/7 [==============================] - 0s 19ms/step - loss: 0.0312 - accuracy: 0.9849\n",
            "Epoch 63/100\n",
            "7/7 [==============================] - 0s 18ms/step - loss: 0.0359 - accuracy: 0.9799\n",
            "Epoch 64/100\n",
            "7/7 [==============================] - 0s 17ms/step - loss: 0.0282 - accuracy: 0.9899\n",
            "Epoch 65/100\n",
            "7/7 [==============================] - 0s 18ms/step - loss: 0.0329 - accuracy: 0.9899\n",
            "Epoch 66/100\n",
            "7/7 [==============================] - 0s 19ms/step - loss: 0.0264 - accuracy: 0.9950\n",
            "Epoch 67/100\n",
            "7/7 [==============================] - 0s 17ms/step - loss: 0.0261 - accuracy: 0.9899\n",
            "Epoch 68/100\n",
            "7/7 [==============================] - 0s 17ms/step - loss: 0.0266 - accuracy: 0.9950\n",
            "Epoch 69/100\n",
            "7/7 [==============================] - 0s 16ms/step - loss: 0.0715 - accuracy: 0.9899\n",
            "Epoch 70/100\n",
            "7/7 [==============================] - 0s 19ms/step - loss: 0.1036 - accuracy: 0.9799\n",
            "Epoch 71/100\n",
            "7/7 [==============================] - 0s 16ms/step - loss: 0.1776 - accuracy: 0.9698\n",
            "Epoch 72/100\n",
            "7/7 [==============================] - 0s 18ms/step - loss: 0.2155 - accuracy: 0.9749\n",
            "Epoch 73/100\n",
            "7/7 [==============================] - 0s 18ms/step - loss: 0.1431 - accuracy: 0.9849\n",
            "Epoch 74/100\n",
            "7/7 [==============================] - 0s 27ms/step - loss: 0.1107 - accuracy: 0.9849\n",
            "Epoch 75/100\n",
            "7/7 [==============================] - 0s 29ms/step - loss: 0.1107 - accuracy: 0.9799\n",
            "Epoch 76/100\n",
            "7/7 [==============================] - 0s 31ms/step - loss: 0.0831 - accuracy: 0.9849\n",
            "Epoch 77/100\n",
            "7/7 [==============================] - 0s 26ms/step - loss: 0.1052 - accuracy: 0.9749\n",
            "Epoch 78/100\n",
            "7/7 [==============================] - 0s 28ms/step - loss: 0.1017 - accuracy: 0.9749\n",
            "Epoch 79/100\n",
            "7/7 [==============================] - 0s 28ms/step - loss: 0.0851 - accuracy: 0.9849\n",
            "Epoch 80/100\n",
            "7/7 [==============================] - 0s 27ms/step - loss: 0.1123 - accuracy: 0.9799\n",
            "Epoch 81/100\n",
            "7/7 [==============================] - 0s 27ms/step - loss: 0.0965 - accuracy: 0.9849\n",
            "Epoch 82/100\n",
            "7/7 [==============================] - 0s 27ms/step - loss: 0.0939 - accuracy: 0.9849\n",
            "Epoch 83/100\n",
            "7/7 [==============================] - 0s 29ms/step - loss: 0.0497 - accuracy: 0.9849\n",
            "Epoch 84/100\n",
            "7/7 [==============================] - 0s 27ms/step - loss: 0.0594 - accuracy: 0.9899\n",
            "Epoch 85/100\n",
            "7/7 [==============================] - 0s 27ms/step - loss: 0.0347 - accuracy: 0.9899\n",
            "Epoch 86/100\n",
            "7/7 [==============================] - 0s 29ms/step - loss: 0.0254 - accuracy: 0.9950\n",
            "Epoch 87/100\n",
            "7/7 [==============================] - 0s 30ms/step - loss: 0.0244 - accuracy: 0.9950\n",
            "Epoch 88/100\n",
            "7/7 [==============================] - 0s 22ms/step - loss: 0.0234 - accuracy: 0.9899\n",
            "Epoch 89/100\n",
            "7/7 [==============================] - 0s 18ms/step - loss: 0.0222 - accuracy: 0.9950\n",
            "Epoch 90/100\n",
            "7/7 [==============================] - 0s 16ms/step - loss: 0.0187 - accuracy: 0.9950\n",
            "Epoch 91/100\n",
            "7/7 [==============================] - 0s 17ms/step - loss: 0.0190 - accuracy: 0.9950\n",
            "Epoch 92/100\n",
            "7/7 [==============================] - 0s 17ms/step - loss: 0.0181 - accuracy: 0.9950\n",
            "Epoch 93/100\n",
            "7/7 [==============================] - 0s 17ms/step - loss: 0.0178 - accuracy: 0.9950\n",
            "Epoch 94/100\n",
            "7/7 [==============================] - 0s 20ms/step - loss: 0.0175 - accuracy: 0.9950\n",
            "Epoch 95/100\n",
            "7/7 [==============================] - 0s 17ms/step - loss: 0.0175 - accuracy: 0.9950\n",
            "Epoch 96/100\n",
            "7/7 [==============================] - 0s 18ms/step - loss: 0.0215 - accuracy: 0.9950\n",
            "Epoch 97/100\n",
            "7/7 [==============================] - 0s 17ms/step - loss: 0.0382 - accuracy: 0.9950\n",
            "Epoch 98/100\n",
            "7/7 [==============================] - 0s 17ms/step - loss: 0.0304 - accuracy: 0.9950\n",
            "Epoch 99/100\n",
            "7/7 [==============================] - 0s 17ms/step - loss: 0.0190 - accuracy: 0.9950\n",
            "Epoch 100/100\n",
            "7/7 [==============================] - 0s 16ms/step - loss: 0.0168 - accuracy: 0.9950\n"
          ]
        }
      ]
    },
    {
      "cell_type": "code",
      "source": [
        "def buildPhrase(inp_str, str_len = 50):\n",
        "  for i in range(str_len):\n",
        "    x = []\n",
        "    for j in range(i, i+inp_chars):\n",
        "      x.append(tokenizer.texts_to_matrix(inp_str[j])) # преобразуем символы в One-Hot-encoding\n",
        "\n",
        "    x = np.array(x)\n",
        "    inp = x.reshape(1, inp_chars, num_characters)\n",
        "\n",
        "    pred = model.predict( inp ) # предсказываем OHE четвертого символа\n",
        "    d = tokenizer.index_word[pred.argmax(axis=1)[0]] # получаем ответ в символьном представлении\n",
        "\n",
        "    inp_str += d # дописываем строку\n",
        "\n",
        "  return inp_str"
      ],
      "metadata": {
        "id": "S8i4Oyu8jkNV"
      },
      "execution_count": 613,
      "outputs": []
    },
    {
      "cell_type": "code",
      "source": [
        "res = buildPhrase(\"утренн\")\n",
        "print(res)"
      ],
      "metadata": {
        "colab": {
          "base_uri": "https://localhost:8080/"
        },
        "id": "fbvDV2skjo2g",
        "outputId": "38ee6d8e-f1a2-4729-d220-75817ba6391f"
      },
      "execution_count": 614,
      "outputs": [
        {
          "output_type": "stream",
          "name": "stdout",
          "text": [
            "1/1 [==============================] - 0s 166ms/step\n",
            "1/1 [==============================] - 0s 22ms/step\n",
            "1/1 [==============================] - 0s 28ms/step\n",
            "1/1 [==============================] - 0s 27ms/step\n",
            "1/1 [==============================] - 0s 22ms/step\n",
            "1/1 [==============================] - 0s 25ms/step\n",
            "1/1 [==============================] - 0s 22ms/step\n",
            "1/1 [==============================] - 0s 22ms/step\n",
            "1/1 [==============================] - 0s 23ms/step\n",
            "1/1 [==============================] - 0s 22ms/step\n",
            "1/1 [==============================] - 0s 27ms/step\n",
            "1/1 [==============================] - 0s 24ms/step\n",
            "1/1 [==============================] - 0s 23ms/step\n",
            "1/1 [==============================] - 0s 25ms/step\n",
            "1/1 [==============================] - 0s 22ms/step\n",
            "1/1 [==============================] - 0s 24ms/step\n",
            "1/1 [==============================] - 0s 24ms/step\n",
            "1/1 [==============================] - 0s 24ms/step\n",
            "1/1 [==============================] - 0s 23ms/step\n",
            "1/1 [==============================] - 0s 23ms/step\n",
            "1/1 [==============================] - 0s 27ms/step\n",
            "1/1 [==============================] - 0s 25ms/step\n",
            "1/1 [==============================] - 0s 23ms/step\n",
            "1/1 [==============================] - 0s 25ms/step\n",
            "1/1 [==============================] - 0s 23ms/step\n",
            "1/1 [==============================] - 0s 25ms/step\n",
            "1/1 [==============================] - 0s 25ms/step\n",
            "1/1 [==============================] - 0s 26ms/step\n",
            "1/1 [==============================] - 0s 27ms/step\n",
            "1/1 [==============================] - 0s 24ms/step\n",
            "1/1 [==============================] - 0s 24ms/step\n",
            "1/1 [==============================] - 0s 23ms/step\n",
            "1/1 [==============================] - 0s 22ms/step\n",
            "1/1 [==============================] - 0s 25ms/step\n",
            "1/1 [==============================] - 0s 25ms/step\n",
            "1/1 [==============================] - 0s 32ms/step\n",
            "1/1 [==============================] - 0s 24ms/step\n",
            "1/1 [==============================] - 0s 26ms/step\n",
            "1/1 [==============================] - 0s 24ms/step\n",
            "1/1 [==============================] - 0s 24ms/step\n",
            "1/1 [==============================] - 0s 27ms/step\n",
            "1/1 [==============================] - 0s 23ms/step\n",
            "1/1 [==============================] - 0s 25ms/step\n",
            "1/1 [==============================] - 0s 22ms/step\n",
            "1/1 [==============================] - 0s 23ms/step\n",
            "1/1 [==============================] - 0s 25ms/step\n",
            "1/1 [==============================] - 0s 26ms/step\n",
            "1/1 [==============================] - 0s 25ms/step\n",
            "1/1 [==============================] - 0s 22ms/step\n",
            "1/1 [==============================] - 0s 23ms/step\n",
            "утренновтовн  и верьте в свою способность достигать отли\n"
          ]
        }
      ]
    },
    {
      "cell_type": "markdown",
      "source": [
        "## Слова"
      ],
      "metadata": {
        "id": "TVcmjybyjvdO"
      }
    },
    {
      "cell_type": "code",
      "source": [
        "from keras.preprocessing.text import Tokenizer\n",
        "from keras.models import Sequential\n",
        "from keras.layers import Embedding, SimpleRNN, Dense"
      ],
      "metadata": {
        "id": "6x4sHnKSJeFi"
      },
      "execution_count": 630,
      "outputs": []
    },
    {
      "cell_type": "code",
      "source": [
        "with open('train_data.txt', 'r', encoding='utf-8') as f:\n",
        "    texts = f.read()\n",
        "    texts = texts.replace('\\ufeff', '')"
      ],
      "metadata": {
        "id": "Pm5MfQ1qEDXt"
      },
      "execution_count": 644,
      "outputs": []
    },
    {
      "cell_type": "code",
      "source": [
        "texts"
      ],
      "metadata": {
        "colab": {
          "base_uri": "https://localhost:8080/",
          "height": 53
        },
        "id": "54KaFLVoQHsL",
        "outputId": "92bb032a-a56a-4a2d-a20a-99e9593b7388"
      },
      "execution_count": 662,
      "outputs": [
        {
          "output_type": "execute_result",
          "data": {
            "text/plain": [
              "'Вы — лучший ответ на проблемы, которые возникли в понедельник.\\nДумайте позитивно и верьте в свою способность достигать отличных результатов.\\nЕсли вы смогли в понедельник подняться с постели, значит вы супер герой.'"
            ],
            "application/vnd.google.colaboratory.intrinsic+json": {
              "type": "string"
            }
          },
          "metadata": {},
          "execution_count": 662
        }
      ]
    },
    {
      "cell_type": "code",
      "source": [
        "maxWordsCount = 1000\n",
        "tokenizer = Tokenizer(num_words=maxWordsCount, filters='!–\" —#$%&()*+,-./:;<=>?@[\\\\]^_`{|}~\\t\\n\\r«»', lower=True, split=' ', char_level=False)\n",
        "\n",
        "tokenizer.fit_on_texts([texts])"
      ],
      "metadata": {
        "id": "YoP6dxr8BZdL"
      },
      "execution_count": 646,
      "outputs": []
    },
    {
      "cell_type": "code",
      "source": [
        "sequences = tokenizer.texts_to_sequences([texts])[0]\n",
        "vocab_size = len(tokenizer.word_index) + 1"
      ],
      "metadata": {
        "id": "DHjJMcuqMHyt"
      },
      "execution_count": 647,
      "outputs": []
    },
    {
      "cell_type": "code",
      "source": [
        "sequences"
      ],
      "metadata": {
        "colab": {
          "base_uri": "https://localhost:8080/"
        },
        "id": "tvvP37PZQL1M",
        "outputId": "05e50d2e-9b7f-4400-b03c-299bdf4042ee"
      },
      "execution_count": 663,
      "outputs": [
        {
          "output_type": "execute_result",
          "data": {
            "text/plain": [
              "[1,\n",
              " 4,\n",
              " 5,\n",
              " 6,\n",
              " 7,\n",
              " 8,\n",
              " 9,\n",
              " 2,\n",
              " 3,\n",
              " 10,\n",
              " 11,\n",
              " 12,\n",
              " 13,\n",
              " 2,\n",
              " 14,\n",
              " 15,\n",
              " 16,\n",
              " 17,\n",
              " 18,\n",
              " 19,\n",
              " 1,\n",
              " 20,\n",
              " 2,\n",
              " 3,\n",
              " 21,\n",
              " 22,\n",
              " 23,\n",
              " 24,\n",
              " 1,\n",
              " 25,\n",
              " 26]"
            ]
          },
          "metadata": {},
          "execution_count": 663
        }
      ]
    },
    {
      "cell_type": "code",
      "source": [
        "vocab_size"
      ],
      "metadata": {
        "colab": {
          "base_uri": "https://localhost:8080/"
        },
        "id": "YqS7F3KsQPX8",
        "outputId": "4587e111-a965-4327-f86f-66962506aa8c"
      },
      "execution_count": 664,
      "outputs": [
        {
          "output_type": "execute_result",
          "data": {
            "text/plain": [
              "27"
            ]
          },
          "metadata": {},
          "execution_count": 664
        }
      ]
    },
    {
      "cell_type": "code",
      "source": [
        "inp_words = 3\n",
        "X = []\n",
        "Y = []\n",
        "for i in range(len(sequences) - inp_words):\n",
        "    X.append(sequences[i:i + inp_words])\n",
        "    Y.append(sequences[i + inp_words])\n",
        "\n",
        "X = np.array(X)\n",
        "Y = np.array(Y)"
      ],
      "metadata": {
        "id": "t8ZM63GyJoia"
      },
      "execution_count": 648,
      "outputs": []
    },
    {
      "cell_type": "code",
      "source": [
        "X"
      ],
      "metadata": {
        "colab": {
          "base_uri": "https://localhost:8080/"
        },
        "id": "LYjsJRx_PqT0",
        "outputId": "72c981c2-5f05-4140-d57b-8fb963eb3081"
      },
      "execution_count": 660,
      "outputs": [
        {
          "output_type": "execute_result",
          "data": {
            "text/plain": [
              "array([[ 1,  4,  5],\n",
              "       [ 4,  5,  6],\n",
              "       [ 5,  6,  7],\n",
              "       [ 6,  7,  8],\n",
              "       [ 7,  8,  9],\n",
              "       [ 8,  9,  2],\n",
              "       [ 9,  2,  3],\n",
              "       [ 2,  3, 10],\n",
              "       [ 3, 10, 11],\n",
              "       [10, 11, 12],\n",
              "       [11, 12, 13],\n",
              "       [12, 13,  2],\n",
              "       [13,  2, 14],\n",
              "       [ 2, 14, 15],\n",
              "       [14, 15, 16],\n",
              "       [15, 16, 17],\n",
              "       [16, 17, 18],\n",
              "       [17, 18, 19],\n",
              "       [18, 19,  1],\n",
              "       [19,  1, 20],\n",
              "       [ 1, 20,  2],\n",
              "       [20,  2,  3],\n",
              "       [ 2,  3, 21],\n",
              "       [ 3, 21, 22],\n",
              "       [21, 22, 23],\n",
              "       [22, 23, 24],\n",
              "       [23, 24,  1],\n",
              "       [24,  1, 25]])"
            ]
          },
          "metadata": {},
          "execution_count": 660
        }
      ]
    },
    {
      "cell_type": "code",
      "source": [
        "Y"
      ],
      "metadata": {
        "colab": {
          "base_uri": "https://localhost:8080/"
        },
        "id": "KtHB4wdlPs_5",
        "outputId": "b7fd2de1-570b-4f40-f107-82209e9eeee6"
      },
      "execution_count": 661,
      "outputs": [
        {
          "output_type": "execute_result",
          "data": {
            "text/plain": [
              "array([ 6,  7,  8,  9,  2,  3, 10, 11, 12, 13,  2, 14, 15, 16, 17, 18, 19,\n",
              "        1, 20,  2,  3, 21, 22, 23, 24,  1, 25, 26])"
            ]
          },
          "metadata": {},
          "execution_count": 661
        }
      ]
    },
    {
      "cell_type": "code",
      "source": [
        "model = Sequential([\n",
        "    Embedding(vocab_size, 50, input_length=inp_words),\n",
        "    SimpleRNN(128),\n",
        "    Dense(vocab_size, activation='softmax')\n",
        "])"
      ],
      "metadata": {
        "id": "3giKe_EZJzFO"
      },
      "execution_count": 649,
      "outputs": []
    },
    {
      "cell_type": "code",
      "source": [
        "model.compile(loss='sparse_categorical_crossentropy', optimizer='adam', metrics=['accuracy'])"
      ],
      "metadata": {
        "id": "NrRSGvQpJ3jf"
      },
      "execution_count": 650,
      "outputs": []
    },
    {
      "cell_type": "code",
      "source": [
        "history = model.fit(X, Y, batch_size=32, epochs=20)"
      ],
      "metadata": {
        "colab": {
          "base_uri": "https://localhost:8080/"
        },
        "id": "5WTO4pylMfr6",
        "outputId": "ab7c8ce3-f17f-4809-effe-91cfe428d489"
      },
      "execution_count": 651,
      "outputs": [
        {
          "output_type": "stream",
          "name": "stdout",
          "text": [
            "Epoch 1/20\n",
            "1/1 [==============================] - 2s 2s/step - loss: 3.3062 - accuracy: 0.0000e+00\n",
            "Epoch 2/20\n",
            "1/1 [==============================] - 0s 16ms/step - loss: 3.2777 - accuracy: 0.0357\n",
            "Epoch 3/20\n",
            "1/1 [==============================] - 0s 15ms/step - loss: 3.2493 - accuracy: 0.2857\n",
            "Epoch 4/20\n",
            "1/1 [==============================] - 0s 18ms/step - loss: 3.2206 - accuracy: 0.3571\n",
            "Epoch 5/20\n",
            "1/1 [==============================] - 0s 17ms/step - loss: 3.1915 - accuracy: 0.4286\n",
            "Epoch 6/20\n",
            "1/1 [==============================] - 0s 16ms/step - loss: 3.1618 - accuracy: 0.5357\n",
            "Epoch 7/20\n",
            "1/1 [==============================] - 0s 19ms/step - loss: 3.1312 - accuracy: 0.7500\n",
            "Epoch 8/20\n",
            "1/1 [==============================] - 0s 20ms/step - loss: 3.0994 - accuracy: 0.8571\n",
            "Epoch 9/20\n",
            "1/1 [==============================] - 0s 14ms/step - loss: 3.0664 - accuracy: 0.8929\n",
            "Epoch 10/20\n",
            "1/1 [==============================] - 0s 23ms/step - loss: 3.0317 - accuracy: 0.9286\n",
            "Epoch 11/20\n",
            "1/1 [==============================] - 0s 24ms/step - loss: 2.9953 - accuracy: 0.9286\n",
            "Epoch 12/20\n",
            "1/1 [==============================] - 0s 23ms/step - loss: 2.9568 - accuracy: 1.0000\n",
            "Epoch 13/20\n",
            "1/1 [==============================] - 0s 15ms/step - loss: 2.9160 - accuracy: 1.0000\n",
            "Epoch 14/20\n",
            "1/1 [==============================] - 0s 15ms/step - loss: 2.8728 - accuracy: 1.0000\n",
            "Epoch 15/20\n",
            "1/1 [==============================] - 0s 19ms/step - loss: 2.8268 - accuracy: 1.0000\n",
            "Epoch 16/20\n",
            "1/1 [==============================] - 0s 14ms/step - loss: 2.7779 - accuracy: 1.0000\n",
            "Epoch 17/20\n",
            "1/1 [==============================] - 0s 14ms/step - loss: 2.7258 - accuracy: 1.0000\n",
            "Epoch 18/20\n",
            "1/1 [==============================] - 0s 15ms/step - loss: 2.6703 - accuracy: 1.0000\n",
            "Epoch 19/20\n",
            "1/1 [==============================] - 0s 14ms/step - loss: 2.6113 - accuracy: 1.0000\n",
            "Epoch 20/20\n",
            "1/1 [==============================] - 0s 12ms/step - loss: 2.5485 - accuracy: 1.0000\n"
          ]
        }
      ]
    },
    {
      "cell_type": "code",
      "source": [
        "import numpy as np\n",
        "from keras.preprocessing.sequence import pad_sequences"
      ],
      "metadata": {
        "id": "ZJKo9D1XNOJn"
      },
      "execution_count": 652,
      "outputs": []
    },
    {
      "cell_type": "code",
      "source": [
        "def buildPhrase(text, model, tokenizer, max_len=20):\n",
        "    result = text.lower()\n",
        "    input_text = text\n",
        "    for _ in range(max_len):\n",
        "        sequence = tokenizer.texts_to_sequences([input_text])[0]\n",
        "        sequence = pad_sequences([sequence], maxlen=inp_words, padding='pre')\n",
        "        pred = model.predict(sequence)\n",
        "        pred_index = np.argmax(pred)\n",
        "        pred_word = tokenizer.index_word[pred_index]\n",
        "        result += \" \" + pred_word\n",
        "        input_text = input_text.split()[1:] + [pred_word]\n",
        "        input_text = ' '.join(input_text)\n",
        "    return result"
      ],
      "metadata": {
        "id": "K8rFYptwMmoR"
      },
      "execution_count": 657,
      "outputs": []
    },
    {
      "cell_type": "code",
      "source": [
        "initial_text = \"позитив добавляет годы\"\n",
        "predicted_phrase = buildPhrase(initial_text, model, tokenizer)\n",
        "print(predicted_phrase)"
      ],
      "metadata": {
        "colab": {
          "base_uri": "https://localhost:8080/"
        },
        "id": "SvqS4gkXMqxJ",
        "outputId": "7735302c-6ade-485c-de93-4406c4c4f87e"
      },
      "execution_count": 659,
      "outputs": [
        {
          "output_type": "stream",
          "name": "stdout",
          "text": [
            "1/1 [==============================] - 0s 31ms/step\n",
            "1/1 [==============================] - 0s 26ms/step\n",
            "1/1 [==============================] - 0s 23ms/step\n",
            "1/1 [==============================] - 0s 22ms/step\n",
            "1/1 [==============================] - 0s 24ms/step\n",
            "1/1 [==============================] - 0s 22ms/step\n",
            "1/1 [==============================] - 0s 24ms/step\n",
            "1/1 [==============================] - 0s 21ms/step\n",
            "1/1 [==============================] - 0s 21ms/step\n",
            "1/1 [==============================] - 0s 22ms/step\n",
            "1/1 [==============================] - 0s 22ms/step\n",
            "1/1 [==============================] - 0s 22ms/step\n",
            "1/1 [==============================] - 0s 23ms/step\n",
            "1/1 [==============================] - 0s 32ms/step\n",
            "1/1 [==============================] - 0s 21ms/step\n",
            "1/1 [==============================] - 0s 20ms/step\n",
            "1/1 [==============================] - 0s 22ms/step\n",
            "1/1 [==============================] - 0s 22ms/step\n",
            "1/1 [==============================] - 0s 22ms/step\n",
            "1/1 [==============================] - 0s 21ms/step\n",
            "позитив добавляет годы в понедельник думайте позитивно и верьте в свою способность достигать отличных результатов если вы смогли в понедельник подняться с постели\n"
          ]
        }
      ]
    },
    {
      "cell_type": "markdown",
      "source": [
        "В данном коде создана функция __buildPhrase__, которая используется для генерации последовательности слов на основе модели рекуррентной нейронной сети. Вот основные шаги, предпринятые в этой функции:\n",
        "\n",
        "__Подготовка входных данных__: Исходный текст преобразуется в нижний регистр, чтобы обеспечить нормализацию данных. Далее текст токенизируется с использованием токенизатора, связанного с моделью.\n",
        "\n",
        "**Генерация слов**: Затем выполняется цикл, в котором предсказывается следующее слово в последовательности. Для этого сначала преобразуется текущая последовательность слов в последовательность токенов, а затем выполняется предсказание с использованием модели.\n",
        "\n",
        "__Обновление входных данных__: Полученное предсказанное слово добавляется к сгенерированной последовательности, а затем обновляется входной текст для следующей итерации путем удаления первого слова из последовательности и добавления предсказанного слова.\n",
        "\n",
        "__Завершение цикла__: Этот процесс повторяется до тех пор, пока не будет сгенерирована требуемая длина последовательности или не будет достигнут критерий останова.\n",
        "\n",
        "__Возврат результата__: В конце функции возвращается сгенерированная последовательность слов."
      ],
      "metadata": {
        "id": "4USC9Wb5QubC"
      }
    },
    {
      "cell_type": "markdown",
      "source": [
        "##Вывод:\n",
        "В ходе работы была создана функция __buildPhrase__, которая использует предварительно обученную рекуррентную нейронную сеть для генерации последовательности слов на основе заданного входного текста. Эта функция позволяет прогнозировать следующее слово в последовательности и добавлять его к сгенерированному тексту, обновляя входные данные для последующих итераций. </br>\n",
        "\n",
        "Основные шаги работы включали подготовку данных, генерацию слов с помощью модели, обновление входных данных и завершение цикла в соответствии с заданным критерием останова. </br>\n",
        "\n",
        "Функция была реализована с использованием библиотеки __Keras__ и предполагает использование предварительно обученной модели рекуррентной нейронной сети, а также _токенизатора_, обученного на исходном тексте. Результатом работы функции является сгенерированная последовательность слов, которая может быть использована для создания текста на основе заданного контекста. </br>\n",
        "\n",
        "Таким образом, функция __buildPhrase__ представляет собой полезный инструмент для автоматической генерации текста на основе предварительно обученной модели и может быть использована в различных приложениях, таких как автозаполнение текста, генерация заголовков или создание простых прогнозов."
      ],
      "metadata": {
        "id": "3B5J8jsLRwPK"
      }
    }
  ]
}